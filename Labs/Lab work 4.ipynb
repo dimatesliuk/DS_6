{
 "cells": [
  {
   "cell_type": "markdown",
   "metadata": {},
   "source": [
    "___\n",
    "\n",
    "<a href='https://mainacademy.ua/'> <img src='https://mainacademy.ua/wp-content/uploads/2019/03/logo-main.png' alt = 'Хмм, щось з інтернетом'/></a>\n",
    "___\n",
    "\n",
    "# Module 4: Work with data professionally!"
   ]
  },
  {
   "cell_type": "markdown",
   "metadata": {},
   "source": [
    "## Lab work 4\n",
    "\n"
   ]
  },
  {
   "cell_type": "markdown",
   "metadata": {},
   "source": [
    "#### Мета: \n",
    "\n",
    "* навчитися обробляти дані\n",
    "* \"парсити\" сайти"
   ]
  },
  {
   "cell_type": "markdown",
   "metadata": {},
   "source": [
    "### Завдання 1:"
   ]
  },
  {
   "cell_type": "markdown",
   "metadata": {},
   "source": [
    "#### Ознайомитися із API Національного банку \n",
    "https://old.bank.gov.ua/control/uk/publish/article?art_id=38441973&cat_id=38459171#exchange\n",
    "\n"
   ]
  },
  {
   "cell_type": "markdown",
   "metadata": {},
   "source": [
    "1. Підключитися до API.\n"
   ]
  },
  {
   "cell_type": "code",
   "execution_count": 59,
   "metadata": {},
   "outputs": [
    {
     "name": "stdout",
     "output_type": "stream",
     "text": [
      "[{'r030': 840, 'txt': 'Долар США(довідковий)', 'rate': 27.9713, 'cc': 'USD', 'exchangedate': '16.04.2021'}]\n"
     ]
    }
   ],
   "source": [
    "import requests\n",
    "\n",
    "base = {}\n",
    "\n",
    "r = requests.get('https://bank.gov.ua/NBUStatService/v1/statdirectory/dollar_info?json').json()\n",
    "print(r)"
   ]
  },
  {
   "cell_type": "markdown",
   "metadata": {},
   "source": [
    "2. Отримати курс долара за останній рік."
   ]
  },
  {
   "cell_type": "code",
   "execution_count": 60,
   "metadata": {},
   "outputs": [
    {
     "name": "stdout",
     "output_type": "stream",
     "text": [
      "{datetime.date(2021, 4, 18): 27.9592, datetime.date(2021, 4, 17): 27.9592, datetime.date(2021, 4, 16): 27.9592, datetime.date(2021, 4, 15): 27.9765, datetime.date(2021, 4, 14): 28.0156, datetime.date(2021, 4, 13): 27.9335, datetime.date(2021, 4, 12): 27.9094, datetime.date(2021, 4, 11): 27.9768, datetime.date(2021, 4, 10): 27.9768, datetime.date(2021, 4, 9): 27.9768, datetime.date(2021, 4, 8): 27.8923, datetime.date(2021, 4, 7): 27.8384, datetime.date(2021, 4, 6): 27.939, datetime.date(2021, 4, 5): 27.9555, datetime.date(2021, 4, 4): 27.8324, datetime.date(2021, 4, 3): 27.8324, datetime.date(2021, 4, 2): 27.8324, datetime.date(2021, 4, 1): 27.8226, datetime.date(2021, 3, 31): 27.8852, datetime.date(2021, 3, 30): 27.9694, datetime.date(2021, 3, 29): 27.9679, datetime.date(2021, 3, 28): 27.9698, datetime.date(2021, 3, 27): 27.9698, datetime.date(2021, 3, 26): 27.9698, datetime.date(2021, 3, 25): 27.8706, datetime.date(2021, 3, 24): 27.7295, datetime.date(2021, 3, 23): 27.6871, datetime.date(2021, 3, 22): 27.7184, datetime.date(2021, 3, 21): 27.6828, datetime.date(2021, 3, 20): 27.6828, datetime.date(2021, 3, 19): 27.6828, datetime.date(2021, 3, 18): 27.6978, datetime.date(2021, 3, 17): 27.6525, datetime.date(2021, 3, 16): 27.6434, datetime.date(2021, 3, 15): 27.7305, datetime.date(2021, 3, 14): 27.7486, datetime.date(2021, 3, 13): 27.7486, datetime.date(2021, 3, 12): 27.7486, datetime.date(2021, 3, 11): 27.7016, datetime.date(2021, 3, 10): 27.7431, datetime.date(2021, 3, 9): 27.7091, datetime.date(2021, 3, 8): 27.7564, datetime.date(2021, 3, 7): 27.7564, datetime.date(2021, 3, 6): 27.7564, datetime.date(2021, 3, 5): 27.7564, datetime.date(2021, 3, 4): 27.8477, datetime.date(2021, 3, 3): 27.933, datetime.date(2021, 3, 2): 28.0007, datetime.date(2021, 3, 1): 27.9456, datetime.date(2021, 2, 28): 27.9301, datetime.date(2021, 2, 27): 27.9301, datetime.date(2021, 2, 26): 27.9301, datetime.date(2021, 2, 25): 27.9492, datetime.date(2021, 2, 24): 27.8976, datetime.date(2021, 2, 23): 27.9304, datetime.date(2021, 2, 22): 27.8468, datetime.date(2021, 2, 21): 27.8461, datetime.date(2021, 2, 20): 27.8461, datetime.date(2021, 2, 19): 27.8461, datetime.date(2021, 2, 18): 27.9038, datetime.date(2021, 2, 17): 27.8304, datetime.date(2021, 2, 16): 27.9671, datetime.date(2021, 2, 15): 27.844, datetime.date(2021, 2, 14): 27.8384, datetime.date(2021, 2, 13): 27.8384, datetime.date(2021, 2, 12): 27.8384, datetime.date(2021, 2, 11): 27.7665, datetime.date(2021, 2, 10): 27.6426, datetime.date(2021, 2, 9): 27.6651, datetime.date(2021, 2, 8): 27.7711, datetime.date(2021, 2, 7): 27.8885, datetime.date(2021, 2, 6): 27.8885, datetime.date(2021, 2, 5): 27.8885, datetime.date(2021, 2, 4): 27.995, datetime.date(2021, 2, 3): 28.0589, datetime.date(2021, 2, 2): 28.0603, datetime.date(2021, 2, 1): 28.1324, datetime.date(2021, 1, 31): 28.1929, datetime.date(2021, 1, 30): 28.1929, datetime.date(2021, 1, 29): 28.1929, datetime.date(2021, 1, 28): 28.1652, datetime.date(2021, 1, 27): 28.1524, datetime.date(2021, 1, 26): 28.1665, datetime.date(2021, 1, 25): 28.1648, datetime.date(2021, 1, 24): 28.2561, datetime.date(2021, 1, 23): 28.2561, datetime.date(2021, 1, 22): 28.2561, datetime.date(2021, 1, 21): 28.2035, datetime.date(2021, 1, 20): 28.1544, datetime.date(2021, 1, 19): 28.1926, datetime.date(2021, 1, 18): 28.0524, datetime.date(2021, 1, 17): 28.0524, datetime.date(2021, 1, 16): 28.0524, datetime.date(2021, 1, 15): 28.0609, datetime.date(2021, 1, 14): 27.9705, datetime.date(2021, 1, 13): 28.046, datetime.date(2021, 1, 12): 28.2038, datetime.date(2021, 1, 11): 28.2847, datetime.date(2021, 1, 10): 28.4028, datetime.date(2021, 1, 9): 28.4028, datetime.date(2021, 1, 8): 28.4028, datetime.date(2021, 1, 7): 28.4028, datetime.date(2021, 1, 6): 28.4028, datetime.date(2021, 1, 5): 28.431, datetime.date(2021, 1, 4): 28.2746, datetime.date(2021, 1, 3): 28.2746, datetime.date(2021, 1, 2): 28.2746, datetime.date(2021, 1, 1): 28.2746, datetime.date(2020, 12, 31): 28.2746, datetime.date(2020, 12, 30): 28.2605, datetime.date(2020, 12, 29): 28.3668, datetime.date(2020, 12, 28): 28.3547, datetime.date(2020, 12, 27): 28.4551, datetime.date(2020, 12, 26): 28.4551, datetime.date(2020, 12, 25): 28.4551, datetime.date(2020, 12, 24): 28.4551, datetime.date(2020, 12, 23): 28.2513, datetime.date(2020, 12, 22): 28.0391, datetime.date(2020, 12, 21): 27.828, datetime.date(2020, 12, 20): 27.8184, datetime.date(2020, 12, 19): 27.8184, datetime.date(2020, 12, 18): 27.8184, datetime.date(2020, 12, 17): 27.7373, datetime.date(2020, 12, 16): 27.759, datetime.date(2020, 12, 15): 27.8661, datetime.date(2020, 12, 14): 27.9666, datetime.date(2020, 12, 13): 28.075, datetime.date(2020, 12, 12): 28.075, datetime.date(2020, 12, 11): 28.075, datetime.date(2020, 12, 10): 28.0406, datetime.date(2020, 12, 9): 28.0828, datetime.date(2020, 12, 8): 28.2394, datetime.date(2020, 12, 7): 28.2913, datetime.date(2020, 12, 6): 28.3038, datetime.date(2020, 12, 5): 28.3038, datetime.date(2020, 12, 4): 28.3038, datetime.date(2020, 12, 3): 28.4367, datetime.date(2020, 12, 2): 28.5583, datetime.date(2020, 12, 1): 28.4962, datetime.date(2020, 11, 30): 28.4681, datetime.date(2020, 11, 29): 28.4428, datetime.date(2020, 11, 28): 28.4428, datetime.date(2020, 11, 27): 28.4428, datetime.date(2020, 11, 26): 28.3816, datetime.date(2020, 11, 25): 28.3741, datetime.date(2020, 11, 24): 28.3694, datetime.date(2020, 11, 23): 28.3553, datetime.date(2020, 11, 22): 28.2572, datetime.date(2020, 11, 21): 28.2572, datetime.date(2020, 11, 20): 28.2572, datetime.date(2020, 11, 19): 28.13, datetime.date(2020, 11, 18): 28.1067, datetime.date(2020, 11, 17): 28.112, datetime.date(2020, 11, 16): 28.1158, datetime.date(2020, 11, 15): 28.1963, datetime.date(2020, 11, 14): 28.1963, datetime.date(2020, 11, 13): 28.1963, datetime.date(2020, 11, 12): 28.161, datetime.date(2020, 11, 11): 28.1206, datetime.date(2020, 11, 10): 28.1116, datetime.date(2020, 11, 9): 28.1375, datetime.date(2020, 11, 8): 28.3643, datetime.date(2020, 11, 7): 28.3643, datetime.date(2020, 11, 6): 28.3643, datetime.date(2020, 11, 5): 28.5074, datetime.date(2020, 11, 4): 28.6, datetime.date(2020, 11, 3): 28.5827, datetime.date(2020, 11, 2): 28.4507, datetime.date(2020, 11, 1): 28.4383, datetime.date(2020, 10, 31): 28.4383, datetime.date(2020, 10, 30): 28.4383, datetime.date(2020, 10, 29): 28.3989, datetime.date(2020, 10, 28): 28.3655, datetime.date(2020, 10, 27): 28.3352, datetime.date(2020, 10, 26): 28.2911, datetime.date(2020, 10, 25): 28.265, datetime.date(2020, 10, 24): 28.265, datetime.date(2020, 10, 23): 28.265, datetime.date(2020, 10, 22): 28.2737, datetime.date(2020, 10, 21): 28.3707, datetime.date(2020, 10, 20): 28.3762, datetime.date(2020, 10, 19): 28.3649, datetime.date(2020, 10, 18): 28.3365, datetime.date(2020, 10, 17): 28.3365, datetime.date(2020, 10, 16): 28.3365, datetime.date(2020, 10, 15): 28.3164, datetime.date(2020, 10, 14): 28.2481, datetime.date(2020, 10, 13): 28.2481, datetime.date(2020, 10, 12): 28.2098, datetime.date(2020, 10, 11): 28.2836, datetime.date(2020, 10, 10): 28.2836, datetime.date(2020, 10, 9): 28.2836, datetime.date(2020, 10, 8): 28.324, datetime.date(2020, 10, 7): 28.3639, datetime.date(2020, 10, 6): 28.4009, datetime.date(2020, 10, 5): 28.3408, datetime.date(2020, 10, 4): 28.3343, datetime.date(2020, 10, 3): 28.3343, datetime.date(2020, 10, 2): 28.3343, datetime.date(2020, 10, 1): 28.3105, datetime.date(2020, 9, 30): 28.2989, datetime.date(2020, 9, 29): 28.3062, datetime.date(2020, 9, 28): 28.2673, datetime.date(2020, 9, 27): 28.2487, datetime.date(2020, 9, 26): 28.2487, datetime.date(2020, 9, 25): 28.2487, datetime.date(2020, 9, 24): 28.1874, datetime.date(2020, 9, 23): 28.2059, datetime.date(2020, 9, 22): 28.2022, datetime.date(2020, 9, 21): 28.1718, datetime.date(2020, 9, 20): 28.1127, datetime.date(2020, 9, 19): 28.1127, datetime.date(2020, 9, 18): 28.1127, datetime.date(2020, 9, 17): 28.1195, datetime.date(2020, 9, 16): 28.0556, datetime.date(2020, 9, 15): 28.0003, datetime.date(2020, 9, 14): 27.9003, datetime.date(2020, 9, 13): 27.8346, datetime.date(2020, 9, 12): 27.8346, datetime.date(2020, 9, 11): 27.8346, datetime.date(2020, 9, 10): 27.8296, datetime.date(2020, 9, 9): 27.8032, datetime.date(2020, 9, 8): 27.7509, datetime.date(2020, 9, 7): 27.7325, datetime.date(2020, 9, 6): 27.6908, datetime.date(2020, 9, 5): 27.6908, datetime.date(2020, 9, 4): 27.6908, datetime.date(2020, 9, 3): 27.6428, datetime.date(2020, 9, 2): 27.6049, datetime.date(2020, 9, 1): 27.5618, datetime.date(2020, 8, 31): 27.4759, datetime.date(2020, 8, 30): 27.4615, datetime.date(2020, 8, 29): 27.4615, datetime.date(2020, 8, 28): 27.4615, datetime.date(2020, 8, 27): 27.386, datetime.date(2020, 8, 26): 27.4383, datetime.date(2020, 8, 25): 27.3942, datetime.date(2020, 8, 24): 27.4812, datetime.date(2020, 8, 23): 27.4812, datetime.date(2020, 8, 22): 27.4812, datetime.date(2020, 8, 21): 27.4812, datetime.date(2020, 8, 20): 27.316, datetime.date(2020, 8, 19): 27.2297, datetime.date(2020, 8, 18): 27.3061, datetime.date(2020, 8, 17): 27.3474, datetime.date(2020, 8, 16): 27.4083, datetime.date(2020, 8, 15): 27.4083, datetime.date(2020, 8, 14): 27.4083, datetime.date(2020, 8, 13): 27.5266, datetime.date(2020, 8, 12): 27.5982, datetime.date(2020, 8, 11): 27.6007, datetime.date(2020, 8, 10): 27.6486, datetime.date(2020, 8, 9): 27.6793, datetime.date(2020, 8, 8): 27.6793, datetime.date(2020, 8, 7): 27.6793, datetime.date(2020, 8, 6): 27.7028, datetime.date(2020, 8, 5): 27.8225, datetime.date(2020, 8, 4): 27.7365, datetime.date(2020, 8, 3): 27.6798, datetime.date(2020, 8, 2): 27.6913, datetime.date(2020, 8, 1): 27.6913, datetime.date(2020, 7, 31): 27.6913, datetime.date(2020, 7, 30): 27.6867, datetime.date(2020, 7, 29): 27.6851, datetime.date(2020, 7, 28): 27.7571, datetime.date(2020, 7, 27): 27.7559, datetime.date(2020, 7, 26): 27.8779, datetime.date(2020, 7, 25): 27.8779, datetime.date(2020, 7, 24): 27.8779, datetime.date(2020, 7, 23): 27.7798, datetime.date(2020, 7, 22): 27.6647, datetime.date(2020, 7, 21): 27.6011, datetime.date(2020, 7, 20): 27.3606, datetime.date(2020, 7, 19): 27.2738, datetime.date(2020, 7, 18): 27.2738, datetime.date(2020, 7, 17): 27.2738, datetime.date(2020, 7, 16): 27.119, datetime.date(2020, 7, 15): 27.1436, datetime.date(2020, 7, 14): 27.0883, datetime.date(2020, 7, 13): 26.9505, datetime.date(2020, 7, 12): 26.9335, datetime.date(2020, 7, 11): 26.9335, datetime.date(2020, 7, 10): 26.9335, datetime.date(2020, 7, 9): 26.9514, datetime.date(2020, 7, 8): 26.9309, datetime.date(2020, 7, 7): 27.1269, datetime.date(2020, 7, 6): 27.1716, datetime.date(2020, 7, 5): 27.1801, datetime.date(2020, 7, 4): 27.1801, datetime.date(2020, 7, 3): 27.1801, datetime.date(2020, 7, 2): 26.77, datetime.date(2020, 7, 1): 26.6676, datetime.date(2020, 6, 30): 26.6922, datetime.date(2020, 6, 29): 26.7002, datetime.date(2020, 6, 28): 26.7002, datetime.date(2020, 6, 27): 26.7002, datetime.date(2020, 6, 26): 26.7002, datetime.date(2020, 6, 25): 26.6509, datetime.date(2020, 6, 24): 26.6078, datetime.date(2020, 6, 23): 26.6695, datetime.date(2020, 6, 22): 26.7207, datetime.date(2020, 6, 21): 26.7633, datetime.date(2020, 6, 20): 26.7633, datetime.date(2020, 6, 19): 26.7633, datetime.date(2020, 6, 18): 26.776, datetime.date(2020, 6, 17): 26.7424, datetime.date(2020, 6, 16): 26.844, datetime.date(2020, 6, 15): 26.7303, datetime.date(2020, 6, 14): 26.5999, datetime.date(2020, 6, 13): 26.5999, datetime.date(2020, 6, 12): 26.5999, datetime.date(2020, 6, 11): 26.6367, datetime.date(2020, 6, 10): 26.6412, datetime.date(2020, 6, 9): 26.6005, datetime.date(2020, 6, 8): 26.6953, datetime.date(2020, 6, 7): 26.6953, datetime.date(2020, 6, 6): 26.6953, datetime.date(2020, 6, 5): 26.6953, datetime.date(2020, 6, 4): 26.7544, datetime.date(2020, 6, 3): 26.7955, datetime.date(2020, 6, 2): 26.8181, datetime.date(2020, 6, 1): 26.8685, datetime.date(2020, 5, 31): 26.9059, datetime.date(2020, 5, 30): 26.9059, datetime.date(2020, 5, 29): 26.9059, datetime.date(2020, 5, 28): 27.0002, datetime.date(2020, 5, 27): 26.9029, datetime.date(2020, 5, 26): 26.8742, datetime.date(2020, 5, 25): 26.7556, datetime.date(2020, 5, 24): 26.7699, datetime.date(2020, 5, 23): 26.7699, datetime.date(2020, 5, 22): 26.7699, datetime.date(2020, 5, 21): 26.5854, datetime.date(2020, 5, 20): 26.5159, datetime.date(2020, 5, 19): 26.571, datetime.date(2020, 5, 18): 26.638, datetime.date(2020, 5, 17): 26.6792, datetime.date(2020, 5, 16): 26.6792, datetime.date(2020, 5, 15): 26.6792, datetime.date(2020, 5, 14): 26.6897, datetime.date(2020, 5, 13): 26.7947, datetime.date(2020, 5, 12): 26.8196, datetime.date(2020, 5, 11): 26.8185, datetime.date(2020, 5, 10): 26.8185, datetime.date(2020, 5, 9): 26.8185, datetime.date(2020, 5, 8): 26.8185, datetime.date(2020, 5, 7): 26.9323, datetime.date(2020, 5, 6): 26.9774, datetime.date(2020, 5, 5): 26.9749, datetime.date(2020, 5, 4): 26.9592, datetime.date(2020, 5, 3): 26.9714, datetime.date(2020, 5, 2): 26.9714, datetime.date(2020, 5, 1): 26.9714, datetime.date(2020, 4, 30): 26.9714, datetime.date(2020, 4, 29): 27.0485, datetime.date(2020, 4, 28): 27.1025, datetime.date(2020, 4, 27): 27.1441, datetime.date(2020, 4, 26): 27.0137, datetime.date(2020, 4, 25): 27.0137, datetime.date(2020, 4, 24): 27.0137, datetime.date(2020, 4, 23): 27.0536, datetime.date(2020, 4, 22): 27.0815, datetime.date(2020, 4, 21): 27.0774, datetime.date(2020, 4, 20): 27.2022, datetime.date(2020, 4, 19): 27.2022, datetime.date(2020, 4, 18): 27.2022}\n"
     ]
    }
   ],
   "source": [
    "import datetime\n",
    "\n",
    "today = datetime.date.today()\n",
    "DB = {}\n",
    "\n",
    "for i in range(0, 366):\n",
    "    day = today - datetime.timedelta(i)\n",
    "    params    = {'date' : day.strftime('%Y%m%d')}\n",
    "    \n",
    "    r = requests.get('https://bank.gov.ua/NBUStatService/v1/statdirectory/exchange?valcode=USD&json', params).json()\n",
    "    \n",
    "    DB[day] = r[0]['rate']\n",
    "print(DB)"
   ]
  },
  {
   "cell_type": "markdown",
   "metadata": {},
   "source": [
    "3. Вивести середнє значення та відхилення курсу за кожний місяць."
   ]
  },
  {
   "cell_type": "code",
   "execution_count": 64,
   "metadata": {},
   "outputs": [
    {
     "name": "stdout",
     "output_type": "stream",
     "text": [
      "Average value for 1 month equals 28.219770967741937\n",
      "Average value for 2 month equals 27.884660714285715\n",
      "Average value for 3 month equals 27.79555806451613\n",
      "Average value for 4 month equals 27.571441935483872\n",
      "Average value for 5 month equals 26.814329032258065\n",
      "Average value for 6 month equals 26.707343333333334\n",
      "Average value for 7 month equals 27.31283870967742\n",
      "Average value for 8 month equals 27.52141935483871\n",
      "Average value for 9 month equals 27.97671666666667\n",
      "Average value for 10 month equals 28.324951612903227\n",
      "Average value for 11 month equals 28.310153333333332\n",
      "Average value for 12 month equals 28.16971935483871\n",
      "\n",
      "Standart deviation for 1 month equals 0.1231532113359842\n",
      "Standart deviation for 2 month equals 0.10631085913415092\n",
      "Standart deviation for 3 month equals 0.11551466219833594\n",
      "Standart deviation for 4 month equals 0.42447741893155594\n",
      "Standart deviation for 5 month equals 0.13470483335438327\n",
      "Standart deviation for 6 month equals 0.07284717438646436\n",
      "Standart deviation for 7 month equals 0.3642097762530265\n",
      "Standart deviation for 8 month equals 0.14819453525541967\n",
      "Standart deviation for 9 month equals 0.2409137677795668\n",
      "Standart deviation for 10 month equals 0.055517948274816174\n",
      "Standart deviation for 11 month equals 0.1508870820853458\n",
      "Standart deviation for 12 month equals 0.24976838393380232\n"
     ]
    }
   ],
   "source": [
    "import statistics\n",
    "\n",
    "mean  = {} \n",
    "stdev = {} \n",
    "\n",
    "for months in range (1,13):\n",
    "    monthly_rate  = [DB[i] for i in DB.keys() if i.month == months]\n",
    "    mean[months]  = statistics.mean(monthly_rate)\n",
    "    stdev[months] = statistics.stdev(monthly_rate)\n",
    "    \n",
    "for el in mean.items():\n",
    "    print(f'Average value for {el[0]} month equals {el[1]}')\n",
    "\n",
    "print(\n",
    ")\n",
    "\n",
    "for el in stdev.items():\n",
    "    print(f'Standart deviation for {el[0]} month equals {el[1]}')"
   ]
  },
  {
   "cell_type": "markdown",
   "metadata": {},
   "source": [
    "4. Дану інформацію записати у файл за допомогою pickle."
   ]
  },
  {
   "cell_type": "code",
   "execution_count": 66,
   "metadata": {},
   "outputs": [],
   "source": [
    "import pickle\n",
    "\n",
    "with open('kurs_usd.pickle', 'wb') as f:\n",
    "    pickle.dump(DB, f)\n",
    "    pickle.dump(mean, f)\n",
    "    pickle.dump(stdev, f)"
   ]
  },
  {
   "cell_type": "markdown",
   "metadata": {},
   "source": [
    "### Завдання 2:"
   ]
  },
  {
   "cell_type": "markdown",
   "metadata": {},
   "source": [
    "Потрібно проаналізувати всі товари на сайті: \n",
    "https://smallpacking.agrosem.ua/shop/"
   ]
  },
  {
   "cell_type": "markdown",
   "metadata": {},
   "source": [
    "Створіть базу даних, що містить таблицю із такими стовбцями: \n",
    "    - артикул товару\n",
    "    - найменування\n",
    "    - ціна \n",
    "    - вага"
   ]
  },
  {
   "cell_type": "code",
   "execution_count": 168,
   "metadata": {},
   "outputs": [],
   "source": [
    "HEADERS = {\n",
    "            'User-Agent': 'Mozilla/5.0 (Windows NT 6.1; WOW64; rv:49.0) Gecko/20100101 Firefox/49.0',\n",
    "            'Accept': 'text/html,application/xhtml+xml,application/xml;q=0.9,*/*;q=0.8',\n",
    "            'Accept-Language': 'en-US,en;q=0.5',\n",
    "            'Accept-Encoding': 'gzip, deflate',\n",
    "            'DNT': '1',\n",
    "            'Connection': 'keep-alive',\n",
    "            'Upgrade-Insecure-Requests': '1',\n",
    "          }\n",
    "BASE = {}"
   ]
  },
  {
   "cell_type": "code",
   "execution_count": 170,
   "metadata": {},
   "outputs": [
    {
     "name": "stdout",
     "output_type": "stream",
     "text": [
      "{'439226': ['Добриво для фруктових та горіхових дерев', 3, 415], '1297': ['Добриво для ягідних чагарників', 3, 415], '91897': ['Добриво для ягідних чагарників', 1, 173], '61169': ['Добриво універсальне грунтове', 1, 173], '6651824': ['Добриво універсальне грунтове', 3, 415], '5227876': ['Добриво універсальне грунтове', 10, 1149], '32237': ['Добриво для декоративних листових', 3, 415], '4165215': ['Добриво для вічнозелених дерев та кущів', 10, 1149], '682645': ['Добриво універсальне грунтове', 3, 415], '7435': ['Добриво універсальне грунтове', 1, 173], '9354141': ['Добриво для газону', 3, 415], '1955': ['Добриво для вічнозелених дерев та кущів', 1, 173], '455799': ['Добриво для газону', 1, 173], '991645': ['Добриво для декоративних листових', 1, 173], '17477': ['Добриво універсальне грунтове', 10, 1149], '7143174': ['Добриво для газону', 3, 415], '3593': ['Добриво для полуниці', 1, 173], '4738184': ['Добриво для вічнозелених дерев та кущів', 3, 415], '3177412': ['Добриво для фруктових та горіхових дерев', 1, 173], '16762': ['Добриво для газону', 10, 1149], '78747': ['Добриво для декоративних листових', 3, 415], '5218': ['Добриво для вічнозелених дерев та кущів', 10, 1149], '33486': ['Добриво для декоративних листових', 1, 173], '198742': ['Добриво для овочів', 3, 415], '797756': ['Добриво для винограду', 1, 173], '726319': ['Добриво для вічнозелених дерев та кущів', 3, 415], '789868': ['Добриво для газону', 1, 155], '88255': ['Добриво для овочів', 1, 173], '68183': ['Добриво для розсади', 1, 173], '5656841': ['Добриво для тепличних овочів', 3, 415], '2217672': ['Добриво для троянд', 1, 173], '8362626': ['Добриво для вічнозелених дерев та кущів', 1, 155], '375738': ['Добриво для газону', 10, 1149], '51561': ['Добриво для тепличних овочів', 1, 173]}\n"
     ]
    }
   ],
   "source": [
    "import requests\n",
    "from bs4 import BeautifulSoup\n",
    "\n",
    "BASE = {}\n",
    "for page in range (1,4): # можна додати ще один конетк, щоб спочатку визначати кількість сторінок\n",
    "    SITE = f'https://smallpacking.agrosem.ua/shop/page/{page}/'\n",
    "\n",
    "    r = requests.get(SITE, headers = HEADERS)\n",
    "\n",
    "\n",
    "    if r.status_code == 200:\n",
    "        soup = BeautifulSoup(r.text, 'lxml')\n",
    "        for el in (soup.find_all('a',class_=\"more-detail\")):\n",
    "            el_r = requests.get(el.get('href'), headers = HEADERS)\n",
    "            lower_soup = BeautifulSoup(el_r.text, 'lxml')\n",
    "            for n in lower_soup.find_all('h2'):\n",
    "                if n.text == 'Меню' or n.text == 'Дякуємо!':\n",
    "                    pass\n",
    "                else:\n",
    "                    name = n.text #name\n",
    "\n",
    "            for s in lower_soup.find_all('span', class_='sku'):\n",
    "                SKU = s.text[5:] #SKU\n",
    "\n",
    "            for p in lower_soup.find_all('div', class_='price-container'): \n",
    "                l_price = p.text.split('грн')\n",
    "                price = int(l_price[0].replace(' ','')) #price\n",
    "\n",
    "            for w in lower_soup.find_all('span', class_='type-packaging-name'):\n",
    "                if w.text == \"Коробка\":\n",
    "                    weight = 1\n",
    "                elif w.text == \"Мішок\":\n",
    "                    weight = 3\n",
    "                else:\n",
    "                    weight = 10\n",
    "            BASE[SKU] = [name, weight, price]\n",
    "print(BASE)"
   ]
  },
  {
   "cell_type": "markdown",
   "metadata": {},
   "source": [
    "### Завдання 3: "
   ]
  },
  {
   "cell_type": "markdown",
   "metadata": {},
   "source": [
    "Ознайомтеся із роботою SQLite та відповідним модулем у Python.\n",
    "Завантажте базу даних для виконання лабораторної роботи.\n",
    "Підключіться до завантаженої бази SQLite."
   ]
  },
  {
   "cell_type": "markdown",
   "metadata": {},
   "source": [
    "1. Виведіть інформацію про дану базу."
   ]
  },
  {
   "cell_type": "code",
   "execution_count": 182,
   "metadata": {},
   "outputs": [
    {
     "name": "stdout",
     "output_type": "stream",
     "text": [
      "[('Customers',), ('sqlite_autoindex_Customers_1',), ('OrderItems',), ('sqlite_autoindex_OrderItems_1',), ('Orders',), ('sqlite_autoindex_Orders_1',), ('Products',), ('sqlite_autoindex_Products_1',), ('Vendors',), ('sqlite_autoindex_Vendors_1',)]\n"
     ]
    }
   ],
   "source": [
    "import sqlite3\n",
    "\n",
    "con = sqlite3.connect('tysql.sqlite')\n",
    "cur = con.cursor()\n",
    "cur.execute(\"SELECT name FROM sqlite_master\")\n",
    "info = cur.fetchall()\n",
    "print(info)\n",
    "con.close()"
   ]
  },
  {
   "cell_type": "markdown",
   "metadata": {},
   "source": [
    "2. Виведіть перелік всіх таблиць."
   ]
  },
  {
   "cell_type": "code",
   "execution_count": 183,
   "metadata": {},
   "outputs": [
    {
     "name": "stdout",
     "output_type": "stream",
     "text": [
      "[('Customers',), ('OrderItems',), ('Orders',), ('Products',), ('Vendors',)]\n"
     ]
    }
   ],
   "source": [
    "con = sqlite3.connect('tysql.sqlite')\n",
    "cur = con.cursor()\n",
    "cur.execute(\"SELECT name FROM sqlite_master WHERE type='table';\")\n",
    "info = cur.fetchall()\n",
    "print(info)\n",
    "con.close()"
   ]
  },
  {
   "cell_type": "markdown",
   "metadata": {},
   "source": [
    "3. Список всіх cust_id з таблиці Customers table."
   ]
  },
  {
   "cell_type": "code",
   "execution_count": 234,
   "metadata": {},
   "outputs": [
    {
     "name": "stdout",
     "output_type": "stream",
     "text": [
      "('1000000001',)\n",
      "('1000000002',)\n",
      "('1000000003',)\n",
      "('1000000004',)\n",
      "('1000000005',)\n"
     ]
    }
   ],
   "source": [
    "con = sqlite3.connect('tysql.sqlite')\n",
    "cur = con.cursor()\n",
    "cur.execute(\"SELECT cust_id FROM Customers\")\n",
    "info = cur.fetchall()\n",
    "for i in info:\n",
    "    print(i)\n",
    "con.close()"
   ]
  },
  {
   "cell_type": "markdown",
   "metadata": {},
   "source": [
    "4. Всю таблицю Customers table"
   ]
  },
  {
   "cell_type": "code",
   "execution_count": 233,
   "metadata": {},
   "outputs": [
    {
     "name": "stdout",
     "output_type": "stream",
     "text": [
      "('1000000001', 'Village Toys', '200 Maple Lane', 'Detroit', 'MI', '44444', 'USA', 'John Smith', 'sales@villagetoys.com')\n",
      "('1000000002', 'Kids Place', '333 South Lake Drive', 'Columbus', 'OH', '43333', 'USA', 'Michelle Green', None)\n",
      "('1000000003', 'Fun4All', '1 Sunny Place', 'Muncie', 'IN', '42222', 'USA', 'Jim Jones', 'jjones@fun4all.com')\n",
      "('1000000004', 'Fun4All', '829 Riverside Drive', 'Phoenix', 'AZ', '88888', 'USA', 'Denise L. Stephens', 'dstephens@fun4all.com')\n",
      "('1000000005', 'The Toy Store', '4545 53rd Street', 'Chicago', 'IL', '54545', 'USA', 'Kim Howard', None)\n"
     ]
    }
   ],
   "source": [
    "con = sqlite3.connect('tysql.sqlite')\n",
    "cur = con.cursor()\n",
    "cur.execute(\"SELECT * FROM Customers\")\n",
    "info = cur.fetchall()\n",
    "for i in info:\n",
    "    print(i)\n",
    "con.close()"
   ]
  },
  {
   "cell_type": "markdown",
   "metadata": {},
   "source": [
    "5. Список клієнтів (cust_names) відсортованих від Z до A"
   ]
  },
  {
   "cell_type": "code",
   "execution_count": 232,
   "metadata": {},
   "outputs": [
    {
     "name": "stdout",
     "output_type": "stream",
     "text": [
      "('Village Toys',)\n",
      "('The Toy Store',)\n",
      "('Kids Place',)\n",
      "('Fun4All',)\n"
     ]
    }
   ],
   "source": [
    "con = sqlite3.connect('tysql.sqlite')\n",
    "cur = con.cursor()\n",
    "cur.execute(\"SELECT distinct cust_name FROM Customers ORDER BY cust_name DESC\")\n",
    "info = cur.fetchall()\n",
    "for i in info:\n",
    "    print(i)\n",
    "con.close()"
   ]
  },
  {
   "cell_type": "markdown",
   "metadata": {},
   "source": [
    "6. Таблицю клієнтів та замовлень (cust_id і order_num) . Відсортуйте по клієнту і потім по даті замовлення"
   ]
  },
  {
   "cell_type": "code",
   "execution_count": 231,
   "metadata": {},
   "outputs": [
    {
     "name": "stdout",
     "output_type": "stream",
     "text": [
      "('1000000001', 20005)\n",
      "('1000000003', 20006)\n",
      "('1000000004', 20007)\n",
      "('1000000005', 20008)\n",
      "('1000000001', 20009)\n"
     ]
    }
   ],
   "source": [
    "con = sqlite3.connect('tysql.sqlite')\n",
    "cur = con.cursor()\n",
    "cur.execute(\"\"\"SELECT Orders.cust_id, Orders.order_num FROM Customers \n",
    "            INNER JOIN Orders ON Customers.cust_id = Orders.cust_id\"\"\")\n",
    "info = cur.fetchall()\n",
    "for i in info:\n",
    "    print(i)\n",
    "con.close()"
   ]
  },
  {
   "cell_type": "markdown",
   "metadata": {},
   "source": [
    "7. Таблицю (на основі Items) з кількість та вартістю товару. Відсортуйте в порядку спадання по кількості та вартості"
   ]
  },
  {
   "cell_type": "code",
   "execution_count": 230,
   "metadata": {},
   "outputs": [
    {
     "name": "stdout",
     "output_type": "stream",
     "text": [
      "(425, 5.49)\n",
      "(465, 10.99)\n",
      "(370, 11.99)\n",
      "(110, 2.99)\n",
      "(60, 4.49)\n"
     ]
    }
   ],
   "source": [
    "con = sqlite3.connect('tysql.sqlite')\n",
    "cur = con.cursor()\n",
    "cur.execute(\"\"\"SELECT sum(quantity), item_price  FROM OrderItems GROUP BY order_item\n",
    "            \"\"\")\n",
    "info = cur.fetchall()\n",
    "for i in info:\n",
    "    print(i)\n",
    "con.close()"
   ]
  },
  {
   "cell_type": "markdown",
   "metadata": {},
   "source": [
    "8. Товар (з таблиці Products), ціна якого становить 9.49"
   ]
  },
  {
   "cell_type": "code",
   "execution_count": 229,
   "metadata": {
    "scrolled": true
   },
   "outputs": [
    {
     "name": "stdout",
     "output_type": "stream",
     "text": [
      "('RYL01', 'FNG01', 'King doll', 9.49, '12 inch king doll with royal garments and crown')\n",
      "('RYL02', 'FNG01', 'Queen doll', 9.49, '12 inch queen doll with royal garments and crown')\n"
     ]
    }
   ],
   "source": [
    "con = sqlite3.connect('tysql.sqlite')\n",
    "cur = con.cursor()\n",
    "cur.execute(\"\"\"SELECT * FROM Products WHERE prod_price = '9.49'\n",
    "            \"\"\")\n",
    "info = cur.fetchall()\n",
    "for i in info:\n",
    "    print(i)\n",
    "con.close()"
   ]
  },
  {
   "cell_type": "markdown",
   "metadata": {},
   "source": [
    "9. Виведіть назву товару та ціну, яка лежить в діапазоні від  3 до 6. Відсортуйте результат в по ціні в порядку зростання"
   ]
  },
  {
   "cell_type": "code",
   "execution_count": 228,
   "metadata": {},
   "outputs": [
    {
     "name": "stdout",
     "output_type": "stream",
     "text": [
      "('8 inch teddy bear', 5.99)\n",
      "('12 inch teddy bear', 8.99)\n",
      "('Fish bean bag toy', 3.49)\n",
      "('Bird bean bag toy', 3.49)\n",
      "('Rabbit bean bag toy', 3.49)\n",
      "('Raggedy Ann', 4.99)\n"
     ]
    }
   ],
   "source": [
    "con = sqlite3.connect('tysql.sqlite')\n",
    "cur = con.cursor()\n",
    "cur.execute(\"\"\"SELECT prod_name, prod_price \n",
    "            FROM Products \n",
    "            WHERE prod_price BETWEEN 3 and 9\n",
    "            \"\"\")\n",
    "info = cur.fetchall()\n",
    "for i in info:\n",
    "    print(i)\n",
    "con.close()"
   ]
  },
  {
   "cell_type": "markdown",
   "metadata": {},
   "source": [
    "10. Кількість товару, що було продано"
   ]
  },
  {
   "cell_type": "code",
   "execution_count": 226,
   "metadata": {},
   "outputs": [
    {
     "name": "stdout",
     "output_type": "stream",
     "text": [
      "(1430,)\n"
     ]
    }
   ],
   "source": [
    "con = sqlite3.connect('tysql.sqlite')\n",
    "cur = con.cursor()\n",
    "cur.execute(\"\"\"SELECT sum(quantity)\n",
    "            FROM OrderItems\n",
    "            \"\"\")\n",
    "info = cur.fetchall()\n",
    "for i in info:\n",
    "    print(i)\n",
    "con.close()"
   ]
  },
  {
   "cell_type": "markdown",
   "metadata": {},
   "source": [
    "11. Кількість найменувань товару, ціна якого більша за 4"
   ]
  },
  {
   "cell_type": "code",
   "execution_count": 225,
   "metadata": {},
   "outputs": [
    {
     "name": "stdout",
     "output_type": "stream",
     "text": [
      "(6,)\n"
     ]
    }
   ],
   "source": [
    "con = sqlite3.connect('tysql.sqlite')\n",
    "cur = con.cursor()\n",
    "cur.execute(\"\"\"SELECT count(prod_name)\n",
    "            FROM Products WHERE prod_price>4\n",
    "            \"\"\")\n",
    "info = cur.fetchall()\n",
    "for i in info:\n",
    "    print(i)\n",
    "con.close()"
   ]
  },
  {
   "cell_type": "markdown",
   "metadata": {},
   "source": [
    "12. Розробіть алгоритм для виведення 3 найдорожчих товарів в базі"
   ]
  },
  {
   "cell_type": "code",
   "execution_count": 224,
   "metadata": {},
   "outputs": [
    {
     "name": "stdout",
     "output_type": "stream",
     "text": [
      "('18 inch teddy bear', 11.99)\n",
      "('King doll', 9.49)\n",
      "('Queen doll', 9.49)\n"
     ]
    }
   ],
   "source": [
    "con = sqlite3.connect('tysql.sqlite')\n",
    "cur = con.cursor()\n",
    "cur.execute(\"\"\"SELECT prod_name, prod_price\n",
    "            FROM Products\n",
    "            ORDER BY prod_price DESC\n",
    "            LIMIT 3\n",
    "            \"\"\")\n",
    "info = cur.fetchall()\n",
    "for i in info:\n",
    "    print(i)\n",
    "con.close()"
   ]
  },
  {
   "cell_type": "markdown",
   "metadata": {},
   "source": [
    "13. Підрахуйте кількість замовлень для кожного клієнта використовуючи підзапити"
   ]
  },
  {
   "cell_type": "code",
   "execution_count": 237,
   "metadata": {},
   "outputs": [
    {
     "name": "stdout",
     "output_type": "stream",
     "text": [
      "('1000000001', 2)\n",
      "('1000000003', 1)\n",
      "('1000000004', 1)\n",
      "('1000000005', 1)\n"
     ]
    }
   ],
   "source": [
    "con = sqlite3.connect('tysql.sqlite')\n",
    "cur = con.cursor()\n",
    "cur.execute(\"\"\"SELECT t.cust_id, t.qty\n",
    "            FROM (SELECT cust_id, count(order_num) as qty\n",
    "                  FROM Orders\n",
    "                  GROUP BY cust_id) as t\n",
    "            \"\"\")\n",
    "info = cur.fetchall()\n",
    "for i in info:\n",
    "    print(i)\n",
    "con.close()\n",
    "\n",
    "\n"
   ]
  },
  {
   "cell_type": "markdown",
   "metadata": {},
   "source": [
    "14. Виведіть список клієнтів та їх замовлення (використайте JOIN)"
   ]
  },
  {
   "cell_type": "code",
   "execution_count": 223,
   "metadata": {},
   "outputs": [
    {
     "name": "stdout",
     "output_type": "stream",
     "text": [
      "('Village Toys', 20005)\n",
      "('Fun4All', 20006)\n",
      "('Fun4All', 20007)\n",
      "('The Toy Store', 20008)\n",
      "('Village Toys', 20009)\n"
     ]
    }
   ],
   "source": [
    "con = sqlite3.connect('tysql.sqlite')\n",
    "cur = con.cursor()\n",
    "cur.execute(\"\"\"SELECT Customers.cust_name, Orders.order_num\n",
    "            FROM Customers\n",
    "            INNER JOIN Orders\n",
    "            ON Customers.cust_id = Orders.cust_id\n",
    "            \n",
    "            \"\"\")\n",
    "info = cur.fetchall()\n",
    "for i in info:\n",
    "    print(i)\n",
    "con.close()"
   ]
  },
  {
   "cell_type": "markdown",
   "metadata": {},
   "source": [
    "15. Зробіть два запити: список товарів, ціна яких менша 5 та список товарів, ціна який більша рівна 5. Використайте UNION для об'єднання цих запитів"
   ]
  },
  {
   "cell_type": "code",
   "execution_count": 221,
   "metadata": {},
   "outputs": [
    {
     "name": "stdout",
     "output_type": "stream",
     "text": [
      "('Fish bean bag toy', 3.49)\n",
      "('Bird bean bag toy', 3.49)\n",
      "('Rabbit bean bag toy', 3.49)\n",
      "('Raggedy Ann', 4.99)\n",
      "('8 inch teddy bear', 5.99)\n",
      "('12 inch teddy bear', 8.99)\n",
      "('18 inch teddy bear', 11.99)\n",
      "('King doll', 9.49)\n",
      "('Queen doll', 9.49)\n"
     ]
    }
   ],
   "source": [
    "con = sqlite3.connect('tysql.sqlite')\n",
    "cur = con.cursor()\n",
    "cur.execute(\"\"\"SELECT prod_name, prod_price \n",
    "            FROM Products\n",
    "            WHERE prod_price<5\n",
    "            UNION ALL\n",
    "            SELECT prod_name, prod_price \n",
    "            FROM Products\n",
    "            WHERE prod_price>=5\n",
    "            \"\"\")\n",
    "info = cur.fetchall()\n",
    "for i in info:\n",
    "    print(i)\n",
    "print(info)\n",
    "con.close()"
   ]
  },
  {
   "cell_type": "markdown",
   "metadata": {},
   "source": [
    "### Завдання 4: "
   ]
  },
  {
   "cell_type": "markdown",
   "metadata": {},
   "source": [
    "Зареєструйтеся на сайті  http://www.sql-ex.ru/\n",
    "\n",
    "Виконайте завдання із блоку SELECT; з 1 по 30 завдання\n",
    "\n",
    "Код запитів вставляйте сюди\n"
   ]
  },
  {
   "cell_type": "markdown",
   "metadata": {},
   "source": [
    "1)  SELECT Product.model, PC.speed, PC.hd FROM Product\n",
    "    LEFT JOIN PC on Product.model = PC.model\n",
    "    WHERE PC.price < 500\n",
    "\n",
    "2)  SELECT DISTINCT(Product.maker) FROM Product\n",
    "    INNER JOIN Printer on Product.model = Printer.model\n",
    "\n",
    "3)  SELECT model, ram, screen FROM Laptop\n",
    "    WHERE price > 1000\n",
    "    \n",
    "4)  SELECT * FROM printer WHERE color = 'y'\n",
    "\n",
    "\n",
    "5)  SELECT model, speed, hd FROM PC \n",
    "    WHERE price < 600 and (cd = '12x' or cd = '24x')\n",
    "\n",
    "6)  SELECT Product.maker, Laptop.speed FROM Product \n",
    "    LEFT JOIN Laptop on Product.model = Laptop.model\n",
    "    WHERE Laptop.hd>=10\n",
    "\n",
    "7)  SELECT DISTINCT(PC.model), PC.price FROM Product\n",
    "    INNER JOIN PC on Product.model = PC.model\n",
    "    WHERE Product.maker = 'B'\n",
    "    UNION ALL\n",
    "    SELECT DISTINCT(Laptop.model), Laptop.price FROM Product\n",
    "    INNER JOIN Laptop on Product.model = Laptop.model\n",
    "    WHERE Product.maker = 'B'\n",
    "    UNION ALL\n",
    "    SELECT DISTINCT(Printer.model), Printer.price FROM Product\n",
    "    INNER JOIN Printer on Product.model = Printer.model\n",
    "    WHERE Product.maker = 'B'\n",
    "\n",
    "8)  SELECT Product.maker FROM Product\n",
    "    INNER JOIN PC ON Product.model = PC.model\n",
    "    EXCEPT\n",
    "    SELECT Product.maker FROM Product\n",
    "    INNER JOIN Laptop ON Product.model = Laptop.model\n",
    "    \n",
    "9)  SELECT DISTINCT(Product.maker) FROM Product\n",
    "    INNER JOIN PC ON Product.model = PC.model\n",
    "    WHERE speed >= 450\n",
    "\n",
    "10) SELECT DISTINCT model, price\n",
    "    FROM Printer\n",
    "    WHERE price = (SELECT MAX(price)\n",
    "    FROM Printer)\n",
    "    \n",
    "11) SELECT AVG(speed) FROM PC\n",
    "\n",
    "12) SELECT AVG(speed) FROM Laptop WHERE price > 1000\n",
    "\n",
    "13) SELECT AVG(PC.speed) FROM Product\n",
    "    INNER JOIN PC ON Product.model = PC.model\n",
    "    WHERE Product.maker = 'A'\n",
    "\n",
    "14) SELECT Classes.class, Ships.name, Classes.country FROM Ships\n",
    "    INNER JOIN Classes ON Ships.class = Classes.class\n",
    "    WHERE numGuns >= 10\n",
    "    \n",
    "15) SELECT hd FROM PC\n",
    "    GROUP BY hd \n",
    "    HAVING COUNT(model)>=2\n",
    "    \n",
    "16) SELECT A.model, B.model, A.speed, A.ram \n",
    "    FROM PC as A\n",
    "    CROSS JOIN PC as B\n",
    "    WHERE A.speed = B.speed AND A.ram = B.ram AND A.model > B.model\n",
    "\n",
    "17) SELECT product.type, laptop.model, laptop.speed FROM laptop\n",
    "    INNER JOIN product on laptop.model = product.model\n",
    "    WHERE laptop.speed < (SELECT MIN(speed) FROM PC)\n",
    "    \n",
    "18) SELECT Product.maker, min(printer.price) FROM Product\n",
    "INNER JOIN Printer ON Product.model = Printer.model\n",
    "WHERE printer.color = 'y' \n",
    "GROUP BY product.maker\n",
    "\n",
    "19) SELECT product.maker, avg(screen) FROM product\n",
    "    INNER JOIN laptop ON product.model = laptop.model\n",
    "    GROUP BY product.maker\n",
    "\n",
    "20) SELECT product.maker, count(PC.model) as Count_Model\n",
    "    FROM product \n",
    "    INNER JOIN PC ON product.model = PC.model\n",
    "    GROUP BY product.maker HAVING COUNT(PC.model) >= 3\n",
    "\n",
    "21) SELECT product.maker, max(pc.price) as max_price FROM product\n",
    "    INNER JOIN PC ON product.model = PC.model\n",
    "    GROUP BY product.maker\n",
    "\n",
    "22) SELECT speed, avg(price) FROM PC\n",
    "    WHERE speed>600\n",
    "    GROUP BY speed\n",
    "\n",
    "23) SELECT product.maker FROM product\n",
    "    INNER JOIN PC On product.model = pc.model\n",
    "    WHERE pc.speed >=750\n",
    "    INTERSECT\n",
    "    SELECT product.maker FROM product\n",
    "    INNER JOIN laptop On product.model = laptop.model\n",
    "    WHERE  laptop.speed >=750\n",
    "    \n",
    "24) SELECT t.model FROM (SELECT DISTINCT model, price FROM PC\n",
    "    WHERE price = (SELECT MAX(price) FROM PC)\n",
    "    UNION ALL\n",
    "    SELECT DISTINCT model, price FROM laptop\n",
    "    WHERE price = (SELECT MAX(price) FROM Laptop)\n",
    "    UNION ALL\n",
    "    SELECT DISTINCT model, price FROM printer\n",
    "    WHERE price = (SELECT MAX(price) FROM printer)) as t\n",
    "\n",
    "    WHERE t.price = (SELECT max(t.price) FROM (SELECT DISTINCT model, price FROM PC\n",
    "    WHERE price = (SELECT MAX(price) FROM PC)\n",
    "    UNION ALL\n",
    "    SELECT DISTINCT model, price FROM laptop\n",
    "    WHERE price = (SELECT MAX(price) FROM Laptop)\n",
    "    UNION ALL\n",
    "    SELECT DISTINCT model, price FROM printer\n",
    "    WHERE price = (SELECT MAX(price) FROM printer)) as t)\n",
    "    \n",
    "25) SELECT t.maker FROM (SELECT product.maker, PC.ram, PC.speed FROM product\n",
    "    INNER JOIN PC on product.model = PC.model\n",
    "    WHERE PC.ram = (SELECT min(ram) FROM PC)) as t\n",
    "    WHERE t.speed = (SELECT max(speed) FROM (SELECT product.maker, PC.ram, PC.speed FROM product\n",
    "    INNER JOIN PC on product.model = PC.model\n",
    "    WHERE PC.ram = (SELECT min(ram) FROM PC)) as t)\n",
    "    INTERSECT\n",
    "    SELECT product.maker FROM product\n",
    "    INNER JOIN printer ON product.model = printer.model\n",
    "\n",
    "26) SELECT AVG(t.price) FROM (\n",
    "    SELECT price FROM product\n",
    "    INNER JOIN PC on product.model = PC.model\n",
    "    WHERE product.maker = 'A'\n",
    "    UNION ALL\n",
    "    SELECT price FROM product\n",
    "    INNER JOIN laptop on product.model = laptop.model\n",
    "    WHERE product.maker = 'A') as t\n",
    "\n",
    "27) SELECT product.maker, AVG(PC.hd) as Avg_hd FROM product\n",
    "    INNER JOIN PC ON product.model = PC.model\n",
    "    WHERE product.maker IN (\n",
    "    SELECT DISTINCT t1.maker \n",
    "    FROM (SELECT product.maker FROM product\n",
    "    INNER JOIN PC ON product.model = PC.model) as t1\n",
    "    INTERSECT\n",
    "    SELECT DISTINCT t2.maker \n",
    "    FROM (SELECT product.maker FROM product\n",
    "    INNER JOIN printer ON product.model = printer.model) as t2\n",
    "    )\n",
    "    GROUP BY product.maker\n",
    "\n",
    "28) SELECT COUNT(product.maker) as qty FROM Product\n",
    "    Group by product.maker\n",
    "    HAVING count(model) = 1\n",
    "\n",
    "29) "
   ]
  }
 ],
 "metadata": {
  "kernelspec": {
   "display_name": "Python 3",
   "language": "python",
   "name": "python3"
  },
  "language_info": {
   "codemirror_mode": {
    "name": "ipython",
    "version": 3
   },
   "file_extension": ".py",
   "mimetype": "text/x-python",
   "name": "python",
   "nbconvert_exporter": "python",
   "pygments_lexer": "ipython3",
   "version": "3.9.1"
  }
 },
 "nbformat": 4,
 "nbformat_minor": 2
}
