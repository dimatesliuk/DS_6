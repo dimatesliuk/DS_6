{
 "cells": [
  {
   "cell_type": "markdown",
   "metadata": {},
   "source": [
    "___\n",
    "\n",
    "<a href='https://mainacademy.ua/'> <img src='https://mainacademy.ua/wp-content/uploads/2019/03/logo-main.png' alt = 'Хмм, щось з інтернетом'/></a>\n",
    "___\n",
    "\n",
    "# Module 8: Unsupervised learning"
   ]
  },
  {
   "cell_type": "markdown",
   "metadata": {},
   "source": [
    "## Lab work 8\n",
    "\n"
   ]
  },
  {
   "cell_type": "markdown",
   "metadata": {},
   "source": [
    "#### Мета: \n",
    "\n",
    "* навчитися використовувати моделі без учителем"
   ]
  },
  {
   "cell_type": "markdown",
   "metadata": {},
   "source": [
    "### Завдання 1:"
   ]
  },
  {
   "cell_type": "markdown",
   "metadata": {},
   "source": [
    "Опрацюйте файл `Groceries.csv`. Використовуючи алгоритм асоціативних зв'язків, знайдіть:\n",
    "- зробіть описову статистику даного файлу\n",
    "- ведіть топ-3 продукти, що продаються\n",
    "- виведіть топ-2 пари продуктів, що продаються\n",
    "- придумайте, як отриману інформацію можна використатти (опишіть в 3-4 реченнях)"
   ]
  },
  {
   "cell_type": "code",
   "execution_count": 39,
   "metadata": {},
   "outputs": [],
   "source": [
    "import numpy as np\n",
    "import pandas as pd\n",
    "from apyori import apriori\n",
    "import seaborn as sns\n",
    "import matplotlib.pyplot as plt\n",
    "import warnings\n",
    "warnings.filterwarnings('ignore')\n",
    "%matplotlib inline\n"
   ]
  },
  {
   "cell_type": "code",
   "execution_count": 40,
   "metadata": {},
   "outputs": [],
   "source": [
    "df = pd.read_csv('Groceries.csv', header=None)"
   ]
  },
  {
   "cell_type": "code",
   "execution_count": 41,
   "metadata": {},
   "outputs": [
    {
     "data": {
      "text/plain": [
       "9835"
      ]
     },
     "execution_count": 41,
     "metadata": {},
     "output_type": "execute_result"
    }
   ],
   "source": [
    "df.shape[0]"
   ]
  },
  {
   "cell_type": "code",
   "execution_count": 42,
   "metadata": {
    "scrolled": true
   },
   "outputs": [
    {
     "data": {
      "text/html": [
       "<div>\n",
       "<style scoped>\n",
       "    .dataframe tbody tr th:only-of-type {\n",
       "        vertical-align: middle;\n",
       "    }\n",
       "\n",
       "    .dataframe tbody tr th {\n",
       "        vertical-align: top;\n",
       "    }\n",
       "\n",
       "    .dataframe thead th {\n",
       "        text-align: right;\n",
       "    }\n",
       "</style>\n",
       "<table border=\"1\" class=\"dataframe\">\n",
       "  <thead>\n",
       "    <tr style=\"text-align: right;\">\n",
       "      <th></th>\n",
       "      <th>0</th>\n",
       "      <th>1</th>\n",
       "      <th>2</th>\n",
       "      <th>3</th>\n",
       "      <th>4</th>\n",
       "      <th>5</th>\n",
       "      <th>6</th>\n",
       "      <th>7</th>\n",
       "      <th>8</th>\n",
       "      <th>9</th>\n",
       "      <th>...</th>\n",
       "      <th>22</th>\n",
       "      <th>23</th>\n",
       "      <th>24</th>\n",
       "      <th>25</th>\n",
       "      <th>26</th>\n",
       "      <th>27</th>\n",
       "      <th>28</th>\n",
       "      <th>29</th>\n",
       "      <th>30</th>\n",
       "      <th>31</th>\n",
       "    </tr>\n",
       "  </thead>\n",
       "  <tbody>\n",
       "    <tr>\n",
       "      <th>0</th>\n",
       "      <td>citrus fruit</td>\n",
       "      <td>semi-finished bread</td>\n",
       "      <td>margarine</td>\n",
       "      <td>ready soups</td>\n",
       "      <td>NaN</td>\n",
       "      <td>NaN</td>\n",
       "      <td>NaN</td>\n",
       "      <td>NaN</td>\n",
       "      <td>NaN</td>\n",
       "      <td>NaN</td>\n",
       "      <td>...</td>\n",
       "      <td>NaN</td>\n",
       "      <td>NaN</td>\n",
       "      <td>NaN</td>\n",
       "      <td>NaN</td>\n",
       "      <td>NaN</td>\n",
       "      <td>NaN</td>\n",
       "      <td>NaN</td>\n",
       "      <td>NaN</td>\n",
       "      <td>NaN</td>\n",
       "      <td>NaN</td>\n",
       "    </tr>\n",
       "    <tr>\n",
       "      <th>1</th>\n",
       "      <td>tropical fruit</td>\n",
       "      <td>yogurt</td>\n",
       "      <td>coffee</td>\n",
       "      <td>NaN</td>\n",
       "      <td>NaN</td>\n",
       "      <td>NaN</td>\n",
       "      <td>NaN</td>\n",
       "      <td>NaN</td>\n",
       "      <td>NaN</td>\n",
       "      <td>NaN</td>\n",
       "      <td>...</td>\n",
       "      <td>NaN</td>\n",
       "      <td>NaN</td>\n",
       "      <td>NaN</td>\n",
       "      <td>NaN</td>\n",
       "      <td>NaN</td>\n",
       "      <td>NaN</td>\n",
       "      <td>NaN</td>\n",
       "      <td>NaN</td>\n",
       "      <td>NaN</td>\n",
       "      <td>NaN</td>\n",
       "    </tr>\n",
       "    <tr>\n",
       "      <th>2</th>\n",
       "      <td>whole milk</td>\n",
       "      <td>NaN</td>\n",
       "      <td>NaN</td>\n",
       "      <td>NaN</td>\n",
       "      <td>NaN</td>\n",
       "      <td>NaN</td>\n",
       "      <td>NaN</td>\n",
       "      <td>NaN</td>\n",
       "      <td>NaN</td>\n",
       "      <td>NaN</td>\n",
       "      <td>...</td>\n",
       "      <td>NaN</td>\n",
       "      <td>NaN</td>\n",
       "      <td>NaN</td>\n",
       "      <td>NaN</td>\n",
       "      <td>NaN</td>\n",
       "      <td>NaN</td>\n",
       "      <td>NaN</td>\n",
       "      <td>NaN</td>\n",
       "      <td>NaN</td>\n",
       "      <td>NaN</td>\n",
       "    </tr>\n",
       "    <tr>\n",
       "      <th>3</th>\n",
       "      <td>pip fruit</td>\n",
       "      <td>yogurt</td>\n",
       "      <td>cream cheese</td>\n",
       "      <td>meat spreads</td>\n",
       "      <td>NaN</td>\n",
       "      <td>NaN</td>\n",
       "      <td>NaN</td>\n",
       "      <td>NaN</td>\n",
       "      <td>NaN</td>\n",
       "      <td>NaN</td>\n",
       "      <td>...</td>\n",
       "      <td>NaN</td>\n",
       "      <td>NaN</td>\n",
       "      <td>NaN</td>\n",
       "      <td>NaN</td>\n",
       "      <td>NaN</td>\n",
       "      <td>NaN</td>\n",
       "      <td>NaN</td>\n",
       "      <td>NaN</td>\n",
       "      <td>NaN</td>\n",
       "      <td>NaN</td>\n",
       "    </tr>\n",
       "    <tr>\n",
       "      <th>4</th>\n",
       "      <td>other vegetables</td>\n",
       "      <td>whole milk</td>\n",
       "      <td>condensed milk</td>\n",
       "      <td>long life bakery product</td>\n",
       "      <td>NaN</td>\n",
       "      <td>NaN</td>\n",
       "      <td>NaN</td>\n",
       "      <td>NaN</td>\n",
       "      <td>NaN</td>\n",
       "      <td>NaN</td>\n",
       "      <td>...</td>\n",
       "      <td>NaN</td>\n",
       "      <td>NaN</td>\n",
       "      <td>NaN</td>\n",
       "      <td>NaN</td>\n",
       "      <td>NaN</td>\n",
       "      <td>NaN</td>\n",
       "      <td>NaN</td>\n",
       "      <td>NaN</td>\n",
       "      <td>NaN</td>\n",
       "      <td>NaN</td>\n",
       "    </tr>\n",
       "  </tbody>\n",
       "</table>\n",
       "<p>5 rows × 32 columns</p>\n",
       "</div>"
      ],
      "text/plain": [
       "                 0                    1               2   \\\n",
       "0      citrus fruit  semi-finished bread       margarine   \n",
       "1    tropical fruit               yogurt          coffee   \n",
       "2        whole milk                  NaN             NaN   \n",
       "3         pip fruit               yogurt   cream cheese    \n",
       "4  other vegetables           whole milk  condensed milk   \n",
       "\n",
       "                         3    4    5    6    7    8    9   ...   22   23   24  \\\n",
       "0               ready soups  NaN  NaN  NaN  NaN  NaN  NaN  ...  NaN  NaN  NaN   \n",
       "1                       NaN  NaN  NaN  NaN  NaN  NaN  NaN  ...  NaN  NaN  NaN   \n",
       "2                       NaN  NaN  NaN  NaN  NaN  NaN  NaN  ...  NaN  NaN  NaN   \n",
       "3              meat spreads  NaN  NaN  NaN  NaN  NaN  NaN  ...  NaN  NaN  NaN   \n",
       "4  long life bakery product  NaN  NaN  NaN  NaN  NaN  NaN  ...  NaN  NaN  NaN   \n",
       "\n",
       "    25   26   27   28   29   30   31  \n",
       "0  NaN  NaN  NaN  NaN  NaN  NaN  NaN  \n",
       "1  NaN  NaN  NaN  NaN  NaN  NaN  NaN  \n",
       "2  NaN  NaN  NaN  NaN  NaN  NaN  NaN  \n",
       "3  NaN  NaN  NaN  NaN  NaN  NaN  NaN  \n",
       "4  NaN  NaN  NaN  NaN  NaN  NaN  NaN  \n",
       "\n",
       "[5 rows x 32 columns]"
      ]
     },
     "execution_count": 42,
     "metadata": {},
     "output_type": "execute_result"
    }
   ],
   "source": [
    "df.head()"
   ]
  },
  {
   "cell_type": "code",
   "execution_count": 43,
   "metadata": {},
   "outputs": [
    {
     "data": {
      "text/html": [
       "<div>\n",
       "<style scoped>\n",
       "    .dataframe tbody tr th:only-of-type {\n",
       "        vertical-align: middle;\n",
       "    }\n",
       "\n",
       "    .dataframe tbody tr th {\n",
       "        vertical-align: top;\n",
       "    }\n",
       "\n",
       "    .dataframe thead th {\n",
       "        text-align: right;\n",
       "    }\n",
       "</style>\n",
       "<table border=\"1\" class=\"dataframe\">\n",
       "  <thead>\n",
       "    <tr style=\"text-align: right;\">\n",
       "      <th></th>\n",
       "      <th>0</th>\n",
       "      <th>1</th>\n",
       "      <th>2</th>\n",
       "      <th>3</th>\n",
       "      <th>4</th>\n",
       "      <th>5</th>\n",
       "      <th>6</th>\n",
       "      <th>7</th>\n",
       "      <th>8</th>\n",
       "      <th>9</th>\n",
       "      <th>...</th>\n",
       "      <th>22</th>\n",
       "      <th>23</th>\n",
       "      <th>24</th>\n",
       "      <th>25</th>\n",
       "      <th>26</th>\n",
       "      <th>27</th>\n",
       "      <th>28</th>\n",
       "      <th>29</th>\n",
       "      <th>30</th>\n",
       "      <th>31</th>\n",
       "    </tr>\n",
       "  </thead>\n",
       "  <tbody>\n",
       "    <tr>\n",
       "      <th>count</th>\n",
       "      <td>9835</td>\n",
       "      <td>7676</td>\n",
       "      <td>6033</td>\n",
       "      <td>4734</td>\n",
       "      <td>3729</td>\n",
       "      <td>2874</td>\n",
       "      <td>2229</td>\n",
       "      <td>1684</td>\n",
       "      <td>1246</td>\n",
       "      <td>896</td>\n",
       "      <td>...</td>\n",
       "      <td>14</td>\n",
       "      <td>8</td>\n",
       "      <td>7</td>\n",
       "      <td>7</td>\n",
       "      <td>6</td>\n",
       "      <td>5</td>\n",
       "      <td>4</td>\n",
       "      <td>1</td>\n",
       "      <td>1</td>\n",
       "      <td>1</td>\n",
       "    </tr>\n",
       "    <tr>\n",
       "      <th>unique</th>\n",
       "      <td>158</td>\n",
       "      <td>151</td>\n",
       "      <td>155</td>\n",
       "      <td>153</td>\n",
       "      <td>150</td>\n",
       "      <td>137</td>\n",
       "      <td>138</td>\n",
       "      <td>140</td>\n",
       "      <td>128</td>\n",
       "      <td>120</td>\n",
       "      <td>...</td>\n",
       "      <td>13</td>\n",
       "      <td>7</td>\n",
       "      <td>6</td>\n",
       "      <td>7</td>\n",
       "      <td>5</td>\n",
       "      <td>4</td>\n",
       "      <td>3</td>\n",
       "      <td>1</td>\n",
       "      <td>1</td>\n",
       "      <td>1</td>\n",
       "    </tr>\n",
       "    <tr>\n",
       "      <th>top</th>\n",
       "      <td>sausage</td>\n",
       "      <td>whole milk</td>\n",
       "      <td>whole milk</td>\n",
       "      <td>whole milk</td>\n",
       "      <td>rolls/buns</td>\n",
       "      <td>soda</td>\n",
       "      <td>soda</td>\n",
       "      <td>shopping bags</td>\n",
       "      <td>soda</td>\n",
       "      <td>shopping bags</td>\n",
       "      <td>...</td>\n",
       "      <td>waffles</td>\n",
       "      <td>bottled beer</td>\n",
       "      <td>chocolate</td>\n",
       "      <td>long life bakery product</td>\n",
       "      <td>hygiene articles</td>\n",
       "      <td>napkins</td>\n",
       "      <td>house keeping products</td>\n",
       "      <td>skin care</td>\n",
       "      <td>hygiene articles</td>\n",
       "      <td>candles</td>\n",
       "    </tr>\n",
       "    <tr>\n",
       "      <th>freq</th>\n",
       "      <td>825</td>\n",
       "      <td>654</td>\n",
       "      <td>506</td>\n",
       "      <td>315</td>\n",
       "      <td>176</td>\n",
       "      <td>150</td>\n",
       "      <td>120</td>\n",
       "      <td>76</td>\n",
       "      <td>61</td>\n",
       "      <td>49</td>\n",
       "      <td>...</td>\n",
       "      <td>2</td>\n",
       "      <td>2</td>\n",
       "      <td>2</td>\n",
       "      <td>1</td>\n",
       "      <td>2</td>\n",
       "      <td>2</td>\n",
       "      <td>2</td>\n",
       "      <td>1</td>\n",
       "      <td>1</td>\n",
       "      <td>1</td>\n",
       "    </tr>\n",
       "  </tbody>\n",
       "</table>\n",
       "<p>4 rows × 32 columns</p>\n",
       "</div>"
      ],
      "text/plain": [
       "             0           1           2           3           4     5     6   \\\n",
       "count      9835        7676        6033        4734        3729  2874  2229   \n",
       "unique      158         151         155         153         150   137   138   \n",
       "top     sausage  whole milk  whole milk  whole milk  rolls/buns  soda  soda   \n",
       "freq        825         654         506         315         176   150   120   \n",
       "\n",
       "                   7     8              9   ...       22            23  \\\n",
       "count            1684  1246            896  ...       14             8   \n",
       "unique            140   128            120  ...       13             7   \n",
       "top     shopping bags  soda  shopping bags  ...  waffles  bottled beer   \n",
       "freq               76    61             49  ...        2             2   \n",
       "\n",
       "               24                        25                26       27  \\\n",
       "count           7                         7                 6        5   \n",
       "unique          6                         7                 5        4   \n",
       "top     chocolate  long life bakery product  hygiene articles  napkins   \n",
       "freq            2                         1                 2        2   \n",
       "\n",
       "                            28         29                30       31  \n",
       "count                        4          1                 1        1  \n",
       "unique                       3          1                 1        1  \n",
       "top     house keeping products  skin care  hygiene articles  candles  \n",
       "freq                         2          1                 1        1  \n",
       "\n",
       "[4 rows x 32 columns]"
      ]
     },
     "execution_count": 43,
     "metadata": {},
     "output_type": "execute_result"
    }
   ],
   "source": [
    "df.describe()"
   ]
  },
  {
   "cell_type": "code",
   "execution_count": 44,
   "metadata": {},
   "outputs": [],
   "source": [
    "orders = []\n",
    "for i in range(0, df.shape[0]):\n",
    "    orders.append([str(df.values[i,j]) for j in range(0, df.shape[1]) if pd.notna(df.values[i,j])])"
   ]
  },
  {
   "cell_type": "code",
   "execution_count": 73,
   "metadata": {},
   "outputs": [
    {
     "name": "stdout",
     "output_type": "stream",
     "text": [
      "TOP3 products\n",
      "('whole milk', 2513)\n",
      "('other vegetables', 1903)\n",
      "('rolls/buns', 1809)\n"
     ]
    }
   ],
   "source": [
    "from collections import Counter\n",
    "\n",
    "countr = Counter()\n",
    "products_number = []\n",
    "\n",
    "for order in orders:\n",
    "    for i in order:\n",
    "        products_number.append(i)\n",
    "        countr[i] += 1\n",
    "print(\"TOP3 products\")\n",
    "print(countr.most_common(3)[0])\n",
    "print(countr.most_common(3)[1])\n",
    "print(countr.most_common(3)[2])"
   ]
  },
  {
   "cell_type": "code",
   "execution_count": 46,
   "metadata": {},
   "outputs": [],
   "source": [
    "association_rules = apriori(orders, min_support=0.0045, min_confidence=0.2, min_lift=3, min_length=2)"
   ]
  },
  {
   "cell_type": "code",
   "execution_count": 47,
   "metadata": {},
   "outputs": [
    {
     "name": "stdout",
     "output_type": "stream",
     "text": [
      "Rule:  baking powder  -  whipped/sour cream\n",
      "Support:  0.004575495678698526\n",
      "Confidence:  0.25862068965517243\n",
      "Lift:  3.607850330154072\n",
      "***************************\n",
      "Rule:  beef  -  root vegetables\n",
      "Support:  0.017386883579054397\n",
      "Confidence:  0.3313953488372093\n",
      "Lift:  3.0403668431100312\n",
      "***************************\n",
      "Rule:  berries  -  whipped/sour cream\n",
      "Support:  0.009049313675648195\n",
      "Confidence:  0.27217125382262997\n",
      "Lift:  3.796885505454703\n",
      "***************************\n",
      "Rule:  liquor  -  bottled beer\n",
      "Support:  0.004677173360447382\n",
      "Confidence:  0.4220183486238532\n",
      "Lift:  5.240594013529793\n",
      "***************************\n",
      "Rule:  red/blush wine  -  bottled beer\n",
      "Support:  0.004880528723945094\n",
      "Confidence:  0.253968253968254\n",
      "Lift:  3.1537598204264876\n",
      "***************************\n",
      "Rule:  flour  -  sugar\n",
      "Support:  0.00498220640569395\n",
      "Confidence:  0.28654970760233917\n",
      "Lift:  8.46311223504206\n",
      "***************************\n",
      "Rule:  root vegetables  -  herbs\n",
      "Support:  0.007015760040671073\n",
      "Confidence:  0.43124999999999997\n",
      "Lift:  3.956477378731343\n",
      "***************************\n",
      "Rule:  sausage  -  sliced cheese\n",
      "Support:  0.007015760040671073\n",
      "Confidence:  0.2863070539419087\n",
      "Lift:  3.047434930215013\n",
      "***************************\n",
      "Rule:  beef  -  root vegetables\n",
      "Support:  0.007930859176410779\n",
      "Confidence:  0.40206185567010316\n",
      "Lift:  3.688692491152486\n",
      "***************************\n",
      "Rule:  beef  -  root vegetables\n",
      "Support:  0.00498220640569395\n",
      "Confidence:  0.3656716417910448\n",
      "Lift:  3.354832646469147\n",
      "***************************\n",
      "Rule:  beef  -  root vegetables\n",
      "Support:  0.008032536858159633\n",
      "Confidence:  0.37799043062200954\n",
      "Lift:  3.467850639148754\n",
      "***************************\n",
      "Rule:  beef  -  yogurt\n",
      "Support:  0.004575495678698526\n",
      "Confidence:  0.391304347826087\n",
      "Lift:  3.5899983776768334\n",
      "***************************\n",
      "Rule:  domestic eggs  -  butter\n",
      "Support:  0.004575495678698526\n",
      "Confidence:  0.2284263959390863\n",
      "Lift:  3.6002782116360796\n",
      "***************************\n",
      "Rule:  whole milk  -  domestic eggs\n",
      "Support:  0.005998983223182512\n",
      "Confidence:  0.21771217712177124\n",
      "Lift:  3.4314090737061216\n",
      "***************************\n",
      "Rule:  root vegetables  -  butter\n",
      "Support:  0.0066090493136756485\n",
      "Confidence:  0.3299492385786802\n",
      "Lift:  3.027099590878097\n",
      "***************************\n",
      "Rule:  whipped/sour cream  -  butter\n",
      "Support:  0.005795627859684799\n",
      "Confidence:  0.2893401015228426\n",
      "Lift:  4.036397019116535\n",
      "***************************\n",
      "Rule:  yogurt  -  tropical fruit\n",
      "Support:  0.004575495678698526\n",
      "Confidence:  0.45918367346938777\n",
      "Lift:  3.291597251145356\n",
      "***************************\n",
      "Rule:  whole milk  -  whipped/sour cream\n",
      "Support:  0.006710726995424504\n",
      "Confidence:  0.24354243542435425\n",
      "Lift:  3.397503336735495\n",
      "***************************\n",
      "Rule:  yogurt  -  chicken\n",
      "Support:  0.004880528723945094\n",
      "Confidence:  0.5853658536585367\n",
      "Lift:  3.0252617817822953\n",
      "***************************\n",
      "Rule:  root vegetables  -  chicken\n",
      "Support:  0.005998983223182512\n",
      "Confidence:  0.34104046242774566\n",
      "Lift:  3.1288553619187303\n",
      "***************************\n",
      "Rule:  citrus fruit  -  root vegetables\n",
      "Support:  0.010371123538383325\n",
      "Confidence:  0.3591549295774648\n",
      "Lift:  3.295045459323103\n",
      "***************************\n",
      "Rule:  citrus fruit  -  tropical fruit\n",
      "Support:  0.009049313675648195\n",
      "Confidence:  0.2521246458923513\n",
      "Lift:  3.0462480250015664\n",
      "***************************\n",
      "Rule:  citrus fruit  -  tropical fruit\n",
      "Support:  0.005592272496187087\n",
      "Confidence:  0.4044117647058823\n",
      "Lift:  3.8540597925216593\n",
      "***************************\n",
      "Rule:  citrus fruit  -  root vegetables\n",
      "Support:  0.0056939501779359435\n",
      "Confidence:  0.3218390804597701\n",
      "Lift:  3.0671389111645726\n",
      "***************************\n",
      "Rule:  citrus fruit  -  yogurt\n",
      "Support:  0.004575495678698526\n",
      "Confidence:  0.42056074766355145\n",
      "Lift:  3.01473393095556\n",
      "***************************\n",
      "Rule:  yogurt  -  root vegetables\n",
      "Support:  0.004677173360447382\n",
      "Confidence:  0.42990654205607476\n",
      "Lift:  3.0817280183101277\n",
      "***************************\n",
      "Rule:  tropical fruit  -  yogurt\n",
      "Support:  0.0052872394509405184\n",
      "Confidence:  0.5148514851485149\n",
      "Lift:  3.6906445746615475\n",
      "***************************\n",
      "Rule:  whole milk  -  curd\n",
      "Support:  0.005897305541433655\n",
      "Confidence:  0.22568093385214008\n",
      "Lift:  3.148329055937302\n",
      "***************************\n",
      "Rule:  yogurt  -  curd\n",
      "Support:  0.004575495678698526\n",
      "Confidence:  0.43689320388349523\n",
      "Lift:  3.131810976817912\n",
      "***************************\n",
      "Rule:  whole milk  -  domestic eggs\n",
      "Support:  0.005185561769191663\n",
      "Confidence:  0.2142857142857143\n",
      "Lift:  3.3774038461538463\n",
      "***************************\n",
      "Rule:  domestic eggs  -  root vegetables\n",
      "Support:  0.007320793085917641\n",
      "Confidence:  0.32876712328767127\n",
      "Lift:  3.016254344714783\n",
      "***************************\n",
      "Rule:  domestic eggs  -  whipped/sour cream\n",
      "Support:  0.005083884087442806\n",
      "Confidence:  0.228310502283105\n",
      "Lift:  3.185012468020337\n",
      "***************************\n",
      "Rule:  other vegetables  -  root vegetables\n",
      "Support:  0.006100660904931368\n",
      "Confidence:  0.3428571428571428\n",
      "Lift:  3.145522388059701\n",
      "***************************\n",
      "Rule:  other vegetables  -  root vegetables\n",
      "Support:  0.0056939501779359435\n",
      "Confidence:  0.4\n",
      "Lift:  3.6697761194029854\n",
      "***************************\n",
      "Rule:  whole milk  -  root vegetables\n",
      "Support:  0.004778851042196238\n",
      "Confidence:  0.3949579831932773\n",
      "Lift:  3.6235184372256364\n",
      "***************************\n",
      "Rule:  pip fruit  -  tropical fruit\n",
      "Support:  0.00945602440264362\n",
      "Confidence:  0.3618677042801557\n",
      "Lift:  3.4486132476698947\n",
      "***************************\n",
      "Rule:  pip fruit  -  whipped/sour cream\n",
      "Support:  0.005592272496187087\n",
      "Confidence:  0.6043956043956045\n",
      "Lift:  3.1236104935526905\n",
      "***************************\n",
      "Rule:  root vegetables  -  tropical fruit\n",
      "Support:  0.012302999491611592\n",
      "Confidence:  0.34277620396600567\n",
      "Lift:  3.144779819035136\n",
      "***************************\n",
      "Rule:  tropical fruit  -  whipped/sour cream\n",
      "Support:  0.007829181494661922\n",
      "Confidence:  0.21813031161473087\n",
      "Lift:  3.042995198199827\n",
      "***************************\n",
      "Rule:  yogurt  -  whipped/sour cream\n",
      "Support:  0.010167768174885612\n",
      "Confidence:  0.23419203747072598\n",
      "Lift:  3.2670619695384255\n",
      "***************************\n",
      "Rule:  pip fruit  -  root vegetables\n",
      "Support:  0.0052872394509405184\n",
      "Confidence:  0.33986928104575165\n",
      "Lift:  3.238967421593961\n",
      "***************************\n",
      "Rule:  pip fruit  -  yogurt\n",
      "Support:  0.006405693950177936\n",
      "Confidence:  0.3559322033898305\n",
      "Lift:  3.3920476941269215\n",
      "***************************\n",
      "Rule:  sausage  -  rolls/buns\n",
      "Support:  0.005998983223182512\n",
      "Confidence:  0.3072916666666667\n",
      "Lift:  3.2707938762626267\n",
      "***************************\n",
      "Rule:  root vegetables  -  tropical fruit\n",
      "Support:  0.004575495678698526\n",
      "Confidence:  0.2173913043478261\n",
      "Lift:  3.032685784767191\n",
      "***************************\n",
      "Rule:  yogurt  -  root vegetables\n",
      "Support:  0.00813421453990849\n",
      "Confidence:  0.31496062992125984\n",
      "Lift:  3.00158701092596\n",
      "***************************\n",
      "Rule:  yogurt  -  root vegetables\n",
      "Support:  0.006405693950177936\n",
      "Confidence:  0.2480314960629921\n",
      "Lift:  3.4601273245099677\n",
      "***************************\n",
      "Rule:  whole milk  -  yogurt\n",
      "Support:  0.004575495678698526\n",
      "Confidence:  0.4245283018867925\n",
      "Lift:  3.0431748170966504\n",
      "***************************\n",
      "Rule:  yogurt  -  tropical fruit\n",
      "Support:  0.0062023385866802234\n",
      "Confidence:  0.44852941176470584\n",
      "Lift:  3.215223589435774\n",
      "***************************\n",
      "Rule:  citrus fruit  -  whole milk\n",
      "Support:  0.005795627859684799\n",
      "Confidence:  0.2007042253521127\n",
      "Lift:  4.103796374923136\n",
      "***************************\n",
      "Rule:  citrus fruit  -  whole milk\n",
      "Support:  0.00498220640569395\n",
      "Confidence:  0.25\n",
      "Lift:  3.340692934782609\n",
      "***************************\n",
      "Rule:  whole milk  -  domestic eggs\n",
      "Support:  0.004575495678698526\n",
      "Confidence:  0.20547945205479454\n",
      "Lift:  4.201435365818928\n",
      "***************************\n",
      "Rule:  whole milk  -  yogurt\n",
      "Support:  0.005083884087442806\n",
      "Confidence:  0.24154589371980675\n",
      "Lift:  4.3114407708426485\n",
      "***************************\n",
      "Rule:  pip fruit  -  whole milk\n",
      "Support:  0.005490594814438231\n",
      "Confidence:  0.21011673151750973\n",
      "Lift:  4.29625375150667\n",
      "***************************\n",
      "Rule:  pip fruit  -  whole milk\n",
      "Support:  0.004778851042196238\n",
      "Confidence:  0.23383084577114427\n",
      "Lift:  3.124628217607614\n",
      "***************************\n",
      "Rule:  pip fruit  -  whole milk\n",
      "Support:  0.005083884087442806\n",
      "Confidence:  0.2824858757062147\n",
      "Lift:  3.7747942765905185\n",
      "***************************\n",
      "Rule:  whole milk  -  rolls/buns\n",
      "Support:  0.0062023385866802234\n",
      "Confidence:  0.25523012552301255\n",
      "Lift:  3.4105819083136257\n",
      "***************************\n",
      "Rule:  whole milk  -  root vegetables\n",
      "Support:  0.007015760040671073\n",
      "Confidence:  0.33333333333333337\n",
      "Lift:  4.454257246376812\n",
      "***************************\n",
      "Rule:  yogurt  -  root vegetables\n",
      "Support:  0.00498220640569395\n",
      "Confidence:  0.23671497584541062\n",
      "Lift:  5.452205591193474\n",
      "***************************\n",
      "Rule:  whole milk  -  root vegetables\n",
      "Support:  0.005185561769191663\n",
      "Confidence:  0.30357142857142855\n",
      "Lift:  4.056555706521739\n",
      "***************************\n",
      "Rule:  whole milk  -  yogurt\n",
      "Support:  0.007829181494661922\n",
      "Confidence:  0.3031496062992126\n",
      "Lift:  4.050918991783636\n",
      "***************************\n",
      "Rule:  whole milk  -  yogurt\n",
      "Support:  0.007625826131164209\n",
      "Confidence:  0.21246458923512745\n",
      "Lift:  3.7923579584890716\n",
      "***************************\n",
      "Rule:  whole milk  -  yogurt\n",
      "Support:  0.005592272496187087\n",
      "Confidence:  0.2696078431372549\n",
      "Lift:  3.602708066922421\n",
      "***************************\n",
      "Rule:  rolls/buns  -  yogurt\n",
      "Support:  0.004880528723945094\n",
      "Confidence:  0.4444444444444445\n",
      "Lift:  3.1859410430839\n",
      "***************************\n",
      "Rule:  whole milk  -  yogurt\n",
      "Support:  0.0056939501779359435\n",
      "Confidence:  0.2705314009661836\n",
      "Lift:  4.828813663343767\n",
      "***************************\n"
     ]
    }
   ],
   "source": [
    "for item in association_rules:\n",
    "    pair = item[0] \n",
    "    items = [x for x in pair]\n",
    "    print(\"Rule: \", items[0], \" - \", items[1] )\n",
    "\n",
    "    print(\"Support: \", str(item[1]))\n",
    "\n",
    "    print(\"Confidence: \", str(item[2][0][2]))\n",
    "    print(\"Lift: \", str(item[2][0][3]))\n",
    "    print(\"***************************\")"
   ]
  },
  {
   "cell_type": "code",
   "execution_count": 74,
   "metadata": {},
   "outputs": [
    {
     "name": "stdout",
     "output_type": "stream",
     "text": [
      "TOP2 pairs\n"
     ]
    },
    {
     "data": {
      "text/html": [
       "<div>\n",
       "<style scoped>\n",
       "    .dataframe tbody tr th:only-of-type {\n",
       "        vertical-align: middle;\n",
       "    }\n",
       "\n",
       "    .dataframe tbody tr th {\n",
       "        vertical-align: top;\n",
       "    }\n",
       "\n",
       "    .dataframe thead th {\n",
       "        text-align: right;\n",
       "    }\n",
       "</style>\n",
       "<table border=\"1\" class=\"dataframe\">\n",
       "  <thead>\n",
       "    <tr style=\"text-align: right;\">\n",
       "      <th></th>\n",
       "      <th>Pair</th>\n",
       "      <th>Support</th>\n",
       "      <th>Confidence</th>\n",
       "      <th>Lift</th>\n",
       "    </tr>\n",
       "  </thead>\n",
       "  <tbody>\n",
       "    <tr>\n",
       "      <th>1</th>\n",
       "      <td>beef - root vegetables</td>\n",
       "      <td>0.017387</td>\n",
       "      <td>0.331395</td>\n",
       "      <td>3.040367</td>\n",
       "    </tr>\n",
       "    <tr>\n",
       "      <th>37</th>\n",
       "      <td>root vegetables - tropical fruit</td>\n",
       "      <td>0.012303</td>\n",
       "      <td>0.342776</td>\n",
       "      <td>3.14478</td>\n",
       "    </tr>\n",
       "  </tbody>\n",
       "</table>\n",
       "</div>"
      ],
      "text/plain": [
       "                                Pair   Support Confidence      Lift\n",
       "1             beef - root vegetables  0.017387   0.331395  3.040367\n",
       "37  root vegetables - tropical fruit  0.012303   0.342776   3.14478"
      ]
     },
     "execution_count": 74,
     "metadata": {},
     "output_type": "execute_result"
    }
   ],
   "source": [
    "association_rules = apriori(orders, min_support=0.0045, min_confidence=0.2, min_lift=3, min_length=2)\n",
    "products = {}\n",
    "i = 0\n",
    "for item in association_rules:\n",
    "    pair = item[0] \n",
    "    items = [x for x in pair]\n",
    "    products[i] = [items[0] + \" - \" + items[1], item[1], item[2][0][2], item[2][0][3]]\n",
    "    i += 1\n",
    "data = pd.DataFrame(products, index = ['Pair', 'Support', 'Confidence', 'Lift']).T\n",
    "data.sort_values('Support', ascending=False, inplace=True)\n",
    "print(\"TOP2 pairs\")\n",
    "data.head(2)"
   ]
  },
  {
   "cell_type": "markdown",
   "metadata": {},
   "source": [
    "***Conclusions***\n",
    "\n",
    "1. Orders were analyzed using associative rules model\n",
    "2. TOP3 products: \n",
    "   - whole milk, 2513\n",
    "   - other vegetables, 1903\n",
    "   - rolls/buns, 1809\n",
    "3. TOP2 pairs:\n",
    "    - beef - root vegetables\n",
    "    - root vegetables - tropical fruit"
   ]
  },
  {
   "cell_type": "markdown",
   "metadata": {},
   "source": [
    "### Завдання 2:"
   ]
  },
  {
   "cell_type": "markdown",
   "metadata": {},
   "source": [
    "Завантажте файл https://www.kaggle.com/vjchoudhary7/customer-segmentation-tutorial-in-python\n",
    " \n",
    "- Спробуйте провести кластеризацію, тобто виділити цільові групи, для яких можна впроваджувати певні маркетингові акції\n",
    "- Опишіть отримані результати"
   ]
  },
  {
   "cell_type": "code",
   "execution_count": 49,
   "metadata": {},
   "outputs": [],
   "source": [
    "df2 = pd.read_csv('Mall_Customers.csv',index_col=0)"
   ]
  },
  {
   "cell_type": "code",
   "execution_count": 50,
   "metadata": {},
   "outputs": [
    {
     "data": {
      "text/plain": [
       "(200, 4)"
      ]
     },
     "execution_count": 50,
     "metadata": {},
     "output_type": "execute_result"
    }
   ],
   "source": [
    "df2.shape"
   ]
  },
  {
   "cell_type": "code",
   "execution_count": 51,
   "metadata": {},
   "outputs": [
    {
     "data": {
      "text/html": [
       "<div>\n",
       "<style scoped>\n",
       "    .dataframe tbody tr th:only-of-type {\n",
       "        vertical-align: middle;\n",
       "    }\n",
       "\n",
       "    .dataframe tbody tr th {\n",
       "        vertical-align: top;\n",
       "    }\n",
       "\n",
       "    .dataframe thead th {\n",
       "        text-align: right;\n",
       "    }\n",
       "</style>\n",
       "<table border=\"1\" class=\"dataframe\">\n",
       "  <thead>\n",
       "    <tr style=\"text-align: right;\">\n",
       "      <th></th>\n",
       "      <th>Gender</th>\n",
       "      <th>Age</th>\n",
       "      <th>Annual Income (k$)</th>\n",
       "      <th>Spending Score (1-100)</th>\n",
       "    </tr>\n",
       "    <tr>\n",
       "      <th>CustomerID</th>\n",
       "      <th></th>\n",
       "      <th></th>\n",
       "      <th></th>\n",
       "      <th></th>\n",
       "    </tr>\n",
       "  </thead>\n",
       "  <tbody>\n",
       "    <tr>\n",
       "      <th>1</th>\n",
       "      <td>Male</td>\n",
       "      <td>19</td>\n",
       "      <td>15</td>\n",
       "      <td>39</td>\n",
       "    </tr>\n",
       "    <tr>\n",
       "      <th>2</th>\n",
       "      <td>Male</td>\n",
       "      <td>21</td>\n",
       "      <td>15</td>\n",
       "      <td>81</td>\n",
       "    </tr>\n",
       "    <tr>\n",
       "      <th>3</th>\n",
       "      <td>Female</td>\n",
       "      <td>20</td>\n",
       "      <td>16</td>\n",
       "      <td>6</td>\n",
       "    </tr>\n",
       "    <tr>\n",
       "      <th>4</th>\n",
       "      <td>Female</td>\n",
       "      <td>23</td>\n",
       "      <td>16</td>\n",
       "      <td>77</td>\n",
       "    </tr>\n",
       "    <tr>\n",
       "      <th>5</th>\n",
       "      <td>Female</td>\n",
       "      <td>31</td>\n",
       "      <td>17</td>\n",
       "      <td>40</td>\n",
       "    </tr>\n",
       "  </tbody>\n",
       "</table>\n",
       "</div>"
      ],
      "text/plain": [
       "            Gender  Age  Annual Income (k$)  Spending Score (1-100)\n",
       "CustomerID                                                         \n",
       "1             Male   19                  15                      39\n",
       "2             Male   21                  15                      81\n",
       "3           Female   20                  16                       6\n",
       "4           Female   23                  16                      77\n",
       "5           Female   31                  17                      40"
      ]
     },
     "execution_count": 51,
     "metadata": {},
     "output_type": "execute_result"
    }
   ],
   "source": [
    "df2.head()"
   ]
  },
  {
   "cell_type": "code",
   "execution_count": 52,
   "metadata": {},
   "outputs": [
    {
     "data": {
      "text/plain": [
       "<seaborn.axisgrid.FacetGrid at 0x2307cab68b0>"
      ]
     },
     "execution_count": 52,
     "metadata": {},
     "output_type": "execute_result"
    },
    {
     "data": {
      "image/png": "[encoded data removed]",
      "text/plain": [
       "<Figure size 429.375x360 with 1 Axes>"
      ]
     },
     "metadata": {
      "needs_background": "light"
     },
     "output_type": "display_data"
    }
   ],
   "source": [
    "sns.lmplot('Annual Income (k$)', 'Spending Score (1-100)',data = df2, hue = 'Gender', palette = 'bright',fit_reg = False)"
   ]
  },
  {
   "cell_type": "markdown",
   "metadata": {},
   "source": [
    "**We could see a clear separation into clusters on the plot above. Clusters depends on spending score and annual income\n",
    "Other parameters can't give us such clasterization.**"
   ]
  },
  {
   "cell_type": "code",
   "execution_count": 53,
   "metadata": {},
   "outputs": [],
   "source": [
    "from sklearn.cluster import KMeans\n",
    "kmeans = KMeans(n_clusters=5)"
   ]
  },
  {
   "cell_type": "code",
   "execution_count": 54,
   "metadata": {},
   "outputs": [
    {
     "data": {
      "text/plain": [
       "KMeans(n_clusters=5)"
      ]
     },
     "execution_count": 54,
     "metadata": {},
     "output_type": "execute_result"
    }
   ],
   "source": [
    "kmeans.fit(df2.drop('Gender',axis=1))"
   ]
  },
  {
   "cell_type": "code",
   "execution_count": 55,
   "metadata": {},
   "outputs": [
    {
     "data": {
      "text/plain": [
       "array([[43.08860759, 55.29113924, 49.56962025],\n",
       "       [40.66666667, 87.75      , 17.58333333],\n",
       "       [25.52173913, 26.30434783, 78.56521739],\n",
       "       [32.69230769, 86.53846154, 82.12820513],\n",
       "       [45.2173913 , 26.30434783, 20.91304348]])"
      ]
     },
     "execution_count": 55,
     "metadata": {},
     "output_type": "execute_result"
    }
   ],
   "source": [
    "kmeans.cluster_centers_"
   ]
  },
  {
   "cell_type": "code",
   "execution_count": 56,
   "metadata": {},
   "outputs": [
    {
     "data": {
      "text/plain": [
       "75350.77917248776"
      ]
     },
     "execution_count": 56,
     "metadata": {},
     "output_type": "execute_result"
    }
   ],
   "source": [
    "kmeans.inertia_"
   ]
  },
  {
   "cell_type": "code",
   "execution_count": 57,
   "metadata": {},
   "outputs": [
    {
     "data": {
      "text/plain": [
       "array([4, 2, 4, 2, 4, 2, 4, 2, 4, 2, 4, 2, 4, 2, 4, 2, 4, 2, 4, 2, 4, 2,\n",
       "       4, 2, 4, 2, 4, 2, 4, 2, 4, 2, 4, 2, 4, 2, 4, 2, 4, 2, 4, 2, 4, 2,\n",
       "       4, 2, 0, 0, 0, 0, 0, 0, 0, 0, 0, 0, 0, 0, 0, 0, 0, 0, 0, 0, 0, 0,\n",
       "       0, 0, 0, 0, 0, 0, 0, 0, 0, 0, 0, 0, 0, 0, 0, 0, 0, 0, 0, 0, 0, 0,\n",
       "       0, 0, 0, 0, 0, 0, 0, 0, 0, 0, 0, 0, 0, 0, 0, 0, 0, 0, 0, 0, 0, 0,\n",
       "       0, 0, 0, 0, 0, 0, 0, 0, 0, 0, 0, 0, 0, 3, 1, 3, 0, 3, 1, 3, 1, 3,\n",
       "       1, 3, 1, 3, 1, 3, 1, 3, 1, 3, 0, 3, 1, 3, 1, 3, 1, 3, 1, 3, 1, 3,\n",
       "       1, 3, 1, 3, 1, 3, 1, 3, 1, 3, 1, 3, 1, 3, 1, 3, 1, 3, 1, 3, 1, 3,\n",
       "       1, 3, 1, 3, 1, 3, 1, 3, 1, 3, 1, 3, 1, 3, 1, 3, 1, 3, 1, 3, 1, 3,\n",
       "       1, 3])"
      ]
     },
     "execution_count": 57,
     "metadata": {},
     "output_type": "execute_result"
    }
   ],
   "source": [
    "kmeans.labels_"
   ]
  },
  {
   "cell_type": "code",
   "execution_count": 58,
   "metadata": {},
   "outputs": [
    {
     "data": {
      "image/png": "[encoded data removed]",
      "text/plain": [
       "<Figure size 432x288 with 1 Axes>"
      ]
     },
     "metadata": {
      "needs_background": "light"
     },
     "output_type": "display_data"
    }
   ],
   "source": [
    "inertias = []\n",
    "sizes = range(2, 12)\n",
    "for k in sizes:\n",
    "    k2 = KMeans(random_state=42, n_clusters=k)\n",
    "    k2.fit(df2.drop('Gender',axis=1))\n",
    "    inertias.append(k2.inertia_)\n",
    "\n",
    "fig, ax= plt.subplots(figsize=(6, 4))\n",
    "pd.Series(inertias, index=sizes).plot(ax=ax)\n",
    "ax.set_xlabel(\"K\")\n",
    "ax.set_ylabel(\"Inertia\")\n",
    "sns.set_style('whitegrid')"
   ]
  },
  {
   "cell_type": "code",
   "execution_count": 59,
   "metadata": {},
   "outputs": [],
   "source": [
    "df2['Cluster'] = df2['Gender'].apply(lambda x: 1 if x == 'Female' else 0)"
   ]
  },
  {
   "cell_type": "code",
   "execution_count": 60,
   "metadata": {},
   "outputs": [
    {
     "name": "stdout",
     "output_type": "stream",
     "text": [
      "[[33 19  9 18  9]\n",
      " [46 17 14 21 14]\n",
      " [ 0  0  0  0  0]\n",
      " [ 0  0  0  0  0]\n",
      " [ 0  0  0  0  0]]\n",
      "              precision    recall  f1-score   support\n",
      "\n",
      "           0       0.42      0.38      0.40        88\n",
      "           1       0.47      0.15      0.23       112\n",
      "           2       0.00      0.00      0.00         0\n",
      "           3       0.00      0.00      0.00         0\n",
      "           4       0.00      0.00      0.00         0\n",
      "\n",
      "    accuracy                           0.25       200\n",
      "   macro avg       0.18      0.11      0.12       200\n",
      "weighted avg       0.45      0.25      0.30       200\n",
      "\n"
     ]
    }
   ],
   "source": [
    "from sklearn.metrics import confusion_matrix,classification_report\n",
    "print(confusion_matrix(df2['Cluster'],kmeans.labels_))\n",
    "print(classification_report(df2['Cluster'],kmeans.labels_))"
   ]
  },
  {
   "cell_type": "code",
   "execution_count": 62,
   "metadata": {},
   "outputs": [
    {
     "data": {
      "text/plain": [
       "Text(0, 0.5, 'Spending Score')"
      ]
     },
     "execution_count": 62,
     "metadata": {},
     "output_type": "execute_result"
    },
    {
     "data": {
      "image/png": "[encoded data removed]",
      "text/plain": [
       "<Figure size 720x432 with 2 Axes>"
      ]
     },
     "metadata": {},
     "output_type": "display_data"
    }
   ],
   "source": [
    "f, (ax1, ax2) = plt.subplots(1, 2, sharey=True,figsize=(10,6))\n",
    "ax1.set_title(\"Original\")\n",
    "ax1.scatter(df2['Annual Income (k$)'], df2['Spending Score (1-100)'], cmap='rainbow')\n",
    "ax1.set_xlabel('Annual Income', size=12)\n",
    "ax1.set_ylabel('Spending Score', size=12)\n",
    "ax2.set_title('K Means')\n",
    "ax2.scatter(df2['Annual Income (k$)'], df2['Spending Score (1-100)'],c=kmeans.labels_,cmap='rainbow')\n",
    "ax2.set_xlabel('Annual Income', size=12)\n",
    "ax2.set_ylabel('Spending Score', size=12)"
   ]
  },
  {
   "cell_type": "markdown",
   "metadata": {},
   "source": [
    "***Conclusions***\n",
    "\n",
    "1. Dependecies for spending score and annual income were analyzed.\n",
    "2. K-means model allowed as to separate 5 groups of customers:\n",
    "- Cluster 1 (green). People live beyond their limits. They constantly use overdraft and spend more than they earn.\n",
    "- Cluster 2 (violet). Group in center of graph, the biggest one. Those people have middle income and the same level of   expences.\n",
    "- Cluster 3 (red). People with high income and high spend rate.\n",
    "- Cluster 4 (orange). This group spend less money than they earn.\n",
    "- Cluster 5 (lite blue). People have low income and don't spend much money."
   ]
  },
  {
   "cell_type": "code",
   "execution_count": null,
   "metadata": {},
   "outputs": [],
   "source": []
  }
 ],
 "metadata": {
  "kernelspec": {
   "display_name": "Python 3",
   "language": "python",
   "name": "python3"
  },
  "language_info": {
   "codemirror_mode": {
    "name": "ipython",
    "version": 3
   },
   "file_extension": ".py",
   "mimetype": "text/x-python",
   "name": "python",
   "nbconvert_exporter": "python",
   "pygments_lexer": "ipython3",
   "version": "3.9.4"
  }
 },
 "nbformat": 4,
 "nbformat_minor": 2
}
