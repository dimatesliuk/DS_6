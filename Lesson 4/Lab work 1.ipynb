{
 "cells": [
  {
   "cell_type": "markdown",
   "id": "hairy-border",
   "metadata": {},
   "source": [
    "# **1. Markdown cells**\n",
    "\n",
    "* Hi! Its Main Academy?\n",
    "* All HTML tabs are supported!\n",
    "* Моя сторінка на лінкедін [Лінкедін](https://www.linkedin.com/in/dmytro-tesliuk-574995170/)"
   ]
  },
  {
   "cell_type": "markdown",
   "id": "confident-iceland",
   "metadata": {},
   "source": [
    "# This is Heading1 "
   ]
  },
  {
   "cell_type": "markdown",
   "id": "electric-walnut",
   "metadata": {},
   "source": [
    "## This is Heading2"
   ]
  },
  {
   "cell_type": "markdown",
   "id": "protecting-omaha",
   "metadata": {},
   "source": [
    "some gray colored text:\n",
    "> This is where we can bring quotes and present them nicely"
   ]
  },
  {
   "cell_type": "markdown",
   "id": "wrapped-collector",
   "metadata": {},
   "source": [
    "And this is the paragraph about something very important. Even math:\n",
    "\n",
    "<div align=\"right\"> $y_{sub}$ = $\\sqrt{(x_{sub})}$"
   ]
  },
  {
   "cell_type": "markdown",
   "id": "warming-aberdeen",
   "metadata": {},
   "source": [
    "<div align=\"lef\">Or python code example:\n",
    "```\n",
    "import math\n",
    "def foo():\n",
    "    return \"foo\"\n",
    "```"
   ]
  }
 ],
 "metadata": {
  "kernelspec": {
   "display_name": "Python 3",
   "language": "python",
   "name": "python3"
  },
  "language_info": {
   "codemirror_mode": {
    "name": "ipython",
    "version": 3
   },
   "file_extension": ".py",
   "mimetype": "text/x-python",
   "name": "python",
   "nbconvert_exporter": "python",
   "pygments_lexer": "ipython3",
   "version": "3.8.3"
  }
 },
 "nbformat": 4,
 "nbformat_minor": 5
}
