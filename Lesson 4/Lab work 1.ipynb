{
 "cells": [
  {
   "cell_type": "markdown",
   "id": "racial-launch",
   "metadata": {},
   "source": [
    "# **1. Markdown cells**\n",
    "\n",
    "* Hi! Its Main Academy?\n",
    "* All HTML tabs are supported!\n",
    "* Моя сторінка на лінкедін [Лінкедін](https://www.linkedin.com/in/dmytro-tesliuk-574995170/)"
   ]
  },
  {
   "cell_type": "markdown",
   "id": "alpine-furniture",
   "metadata": {},
   "source": [
    "# This is Heading1 "
   ]
  },
  {
   "cell_type": "markdown",
   "id": "pacific-connection",
   "metadata": {},
   "source": [
    "## This is Heading2"
   ]
  },
  {
   "cell_type": "markdown",
   "id": "municipal-district",
   "metadata": {},
   "source": [
    "some gray colored text:\n",
    "> This is where we can bring quotes and present them nicely"
   ]
  },
  {
   "cell_type": "markdown",
   "id": "preliminary-maintenance",
   "metadata": {},
   "source": [
    "And this is the paragraph about something very important. Even math:\n",
    "\n",
    "<div align=\"right\"> $y_{sub}$ = $\\sqrt{(x_{sub})}$\n",
    "\n",
    "<div align=\"left\">Or python code example:\n",
    "\n",
    "```\n",
    "import math\n",
    "def foo():\n",
    "    return \"foo\"\n",
    "```"
   ]
  }
 ],
 "metadata": {
  "kernelspec": {
   "display_name": "Python 3",
   "language": "python",
   "name": "python3"
  },
  "language_info": {
   "codemirror_mode": {
    "name": "ipython",
    "version": 3
   },
   "file_extension": ".py",
   "mimetype": "text/x-python",
   "name": "python",
   "nbconvert_exporter": "python",
   "pygments_lexer": "ipython3",
   "version": "3.8.3"
  }
 },
 "nbformat": 4,
 "nbformat_minor": 5
}
