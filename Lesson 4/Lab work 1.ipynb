{
 "cells": [
  {
   "cell_type": "markdown",
   "id": "racial-launch",
   "metadata": {},
   "source": [
    "# **1. Markdown cells**\n",
    "\n",
    "* Hi! Its Main Academy?\n",
    "* All HTML tabs are supported!\n",
    "* Моя сторінка на лінкедін [Лінкедін](https://www.linkedin.com/in/dmytro-tesliuk-574995170/)"
   ]
  },
  {
   "cell_type": "markdown",
   "id": "alpine-furniture",
   "metadata": {},
   "source": [
    "# This is Heading1 "
   ]
  },
  {
   "cell_type": "markdown",
   "id": "pacific-connection",
   "metadata": {},
   "source": [
    "## This is Heading2"
   ]
  },
  {
   "cell_type": "markdown",
   "id": "municipal-district",
   "metadata": {},
   "source": [
    "some gray colored text:\n",
    "> This is where we can bring quotes and present them nicely"
   ]
  },
  {
   "cell_type": "markdown",
   "id": "preliminary-maintenance",
   "metadata": {},
   "source": [
    "And this is the paragraph about something very important. Even math:\n",
    "\n",
    "<div align=\"right\"> $y_{sub}$ = $\\sqrt{(x_{sub})}$\n",
    "\n",
    "<div align=\"left\">Or python code example:\n",
    "\n",
    "```\n",
    "import math\n",
    "def foo():\n",
    "    return \"foo\"\n",
    "```"
   ]
  },
  {
   "cell_type": "markdown",
   "id": "moral-array",
   "metadata": {},
   "source": [
    "Here is the sample mean:\n",
    "\\begin{equation}\n",
    "\\bar{y} = \\frac{1}{n}\\sum_{i=1}^{n} y_i\n",
    "\\end{equation}"
   ]
  },
  {
   "cell_type": "markdown",
   "id": "iraqi-bryan",
   "metadata": {},
   "source": [
    "Here is the sample variance:\n",
    "\\begin{equation}\n",
    "\\sigma^2 = \\frac{\\sum_{i=1}^{n}(y_i-\\bar{y})^2}{n-1}\n",
    "\\end{equation}"
   ]
  },
  {
   "cell_type": "markdown",
   "id": "worthy-electronics",
   "metadata": {},
   "source": [
    "Here is the sample standard deviation:\n",
    "\\begin{equation}\n",
    "\\sigma = \\sqrt{\\frac{\\sum_{i=1}^{n} (y_{i} - \\bar{y})^{2}}{n - 1}}\n",
    "\\end{equation}"
   ]
  },
  {
   "cell_type": "code",
   "execution_count": null,
   "id": "prescription-interference",
   "metadata": {},
   "outputs": [],
   "source": []
  }
 ],
 "metadata": {
  "kernelspec": {
   "display_name": "Python 3",
   "language": "python",
   "name": "python3"
  },
  "language_info": {
   "codemirror_mode": {
    "name": "ipython",
    "version": 3
   },
   "file_extension": ".py",
   "mimetype": "text/x-python",
   "name": "python",
   "nbconvert_exporter": "python",
   "pygments_lexer": "ipython3",
   "version": "3.8.3"
  }
 },
 "nbformat": 4,
 "nbformat_minor": 5
}
